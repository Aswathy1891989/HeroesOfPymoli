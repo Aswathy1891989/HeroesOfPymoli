{
 "cells": [
  {
   "cell_type": "markdown",
   "metadata": {},
   "source": [
    "# Heros Of Pymoli\n",
    "\n",
    "After a lot of hard work in the data munging mines, you've landed a job as Lead Analyst for an independent gaming company. The assigned  task is to analyze the data for their most recent fantasy game Heroes of Pymoli. \n",
    "\n",
    "Like many others in its genre, the game is free-to-play, but players are encouraged to purchase optional items that enhance their playing experience. As a first task, the company would like you to generate a report that breaks down the game's purchasing data into meaningful insights.\n",
    "\n",
    "As the first step, the needed packages as imported. Since data file is json, we need to import json package . "
   ]
  },
  {
   "cell_type": "code",
   "execution_count": 1,
   "metadata": {
    "collapsed": true
   },
   "outputs": [],
   "source": [
    "import pandas as pd\n",
    "import os\n",
    "import json"
   ]
  },
  {
   "cell_type": "markdown",
   "metadata": {},
   "source": [
    "The data is provided in two JSON files. purchase_data.json and purchas_data2.json. Read the files using read_csv function from pandas. Let's define a user defined function to do it. The function reading_file takes filePath, variable which is a string as argument and returns a DataFrame object , which contains the data from .json file"
   ]
  },
  {
   "cell_type": "code",
   "execution_count": 2,
   "metadata": {
    "collapsed": true
   },
   "outputs": [],
   "source": [
    "#define the function to read json file, path of which is passed as argument\n",
    "def reading_File(filePath):\n",
    "    with open(filePath) as datafile:\n",
    "        #loads the file into data\n",
    "        data = json.load(datafile)\n",
    "    #create the dataframe object \n",
    "    purchas_Data_Reader = pd.DataFrame(data)\n",
    "    #return the dataframe object\n",
    "    return purchas_Data_Reader"
   ]
  },
  {
   "cell_type": "code",
   "execution_count": 3,
   "metadata": {
    "scrolled": true
   },
   "outputs": [
    {
     "data": {
      "text/html": [
       "<div>\n",
       "<style>\n",
       "    .dataframe thead tr:only-child th {\n",
       "        text-align: right;\n",
       "    }\n",
       "\n",
       "    .dataframe thead th {\n",
       "        text-align: left;\n",
       "    }\n",
       "\n",
       "    .dataframe tbody tr th {\n",
       "        vertical-align: top;\n",
       "    }\n",
       "</style>\n",
       "<table border=\"1\" class=\"dataframe\">\n",
       "  <thead>\n",
       "    <tr style=\"text-align: right;\">\n",
       "      <th></th>\n",
       "      <th>Age</th>\n",
       "      <th>Gender</th>\n",
       "      <th>Item ID</th>\n",
       "      <th>Item Name</th>\n",
       "      <th>Price</th>\n",
       "      <th>SN</th>\n",
       "    </tr>\n",
       "  </thead>\n",
       "  <tbody>\n",
       "    <tr>\n",
       "      <th>0</th>\n",
       "      <td>38</td>\n",
       "      <td>Male</td>\n",
       "      <td>165</td>\n",
       "      <td>Bone Crushing Silver Skewer</td>\n",
       "      <td>3.37</td>\n",
       "      <td>Aelalis34</td>\n",
       "    </tr>\n",
       "    <tr>\n",
       "      <th>1</th>\n",
       "      <td>21</td>\n",
       "      <td>Male</td>\n",
       "      <td>119</td>\n",
       "      <td>Stormbringer, Dark Blade of Ending Misery</td>\n",
       "      <td>2.32</td>\n",
       "      <td>Eolo46</td>\n",
       "    </tr>\n",
       "    <tr>\n",
       "      <th>2</th>\n",
       "      <td>34</td>\n",
       "      <td>Male</td>\n",
       "      <td>174</td>\n",
       "      <td>Primitive Blade</td>\n",
       "      <td>2.46</td>\n",
       "      <td>Assastnya25</td>\n",
       "    </tr>\n",
       "    <tr>\n",
       "      <th>3</th>\n",
       "      <td>21</td>\n",
       "      <td>Male</td>\n",
       "      <td>92</td>\n",
       "      <td>Final Critic</td>\n",
       "      <td>1.36</td>\n",
       "      <td>Pheusrical25</td>\n",
       "    </tr>\n",
       "    <tr>\n",
       "      <th>4</th>\n",
       "      <td>23</td>\n",
       "      <td>Male</td>\n",
       "      <td>63</td>\n",
       "      <td>Stormfury Mace</td>\n",
       "      <td>1.27</td>\n",
       "      <td>Aela59</td>\n",
       "    </tr>\n",
       "  </tbody>\n",
       "</table>\n",
       "</div>"
      ],
      "text/plain": [
       "   Age Gender  Item ID                                  Item Name  Price  \\\n",
       "0   38   Male      165                Bone Crushing Silver Skewer   3.37   \n",
       "1   21   Male      119  Stormbringer, Dark Blade of Ending Misery   2.32   \n",
       "2   34   Male      174                            Primitive Blade   2.46   \n",
       "3   21   Male       92                               Final Critic   1.36   \n",
       "4   23   Male       63                             Stormfury Mace   1.27   \n",
       "\n",
       "             SN  \n",
       "0     Aelalis34  \n",
       "1        Eolo46  \n",
       "2   Assastnya25  \n",
       "3  Pheusrical25  \n",
       "4        Aela59  "
      ]
     },
     "execution_count": 3,
     "metadata": {},
     "output_type": "execute_result"
    }
   ],
   "source": [
    "purchase_Data_Reader=reading_File(os.path.join(\"raw_data\",\"purchase_data.json\"))\n",
    "purchase_Data_Reader.head()"
   ]
  },
  {
   "cell_type": "markdown",
   "metadata": {},
   "source": [
    "Now let's examine whether any null values are present in the data. Dataframe.isnull.any function returns false if there is no null value . It returns true if there is null values in columns"
   ]
  },
  {
   "cell_type": "markdown",
   "metadata": {},
   "source": [
    "\n",
    "## <li><i><u>Total:</u></i>\n",
    "The First task is to find total values from the data.\n",
    "    <li>Next, to find the total purchases, let's find value_count the number of item id . value_count() returns the count for each item id in the data. Length of the result will give how many items are there."
   ]
  },
  {
   "cell_type": "code",
   "execution_count": 5,
   "metadata": {},
   "outputs": [
    {
     "data": {
      "text/plain": [
       "183"
      ]
     },
     "execution_count": 5,
     "metadata": {},
     "output_type": "execute_result"
    }
   ],
   "source": [
    "count_unique_ITEMS=len(purchase_Data_Reader[\"Item ID\"].unique())\n",
    "count_unique_ITEMS"
   ]
  },
  {
   "cell_type": "markdown",
   "metadata": {},
   "source": [
    "<li> To find the total purchase, count the total rows of Price column. Average purchase price can then be calculated by dividing the total price by total number of purchases. \n",
    "<li> Find unique count of players  and total revenue ."
   ]
  },
  {
   "cell_type": "code",
   "execution_count": 6,
   "metadata": {},
   "outputs": [
    {
     "data": {
      "text/plain": [
       "2.931192307692303"
      ]
     },
     "execution_count": 6,
     "metadata": {},
     "output_type": "execute_result"
    }
   ],
   "source": [
    "total_Purchases=purchase_Data_Reader[\"Price\"].count()\n",
    "avg_Purchase_Price=purchase_Data_Reader[\"Price\"].sum()/total_Purchases\n",
    "avg_Purchase_Price"
   ]
  },
  {
   "cell_type": "code",
   "execution_count": 7,
   "metadata": {},
   "outputs": [
    {
     "data": {
      "text/plain": [
       "573"
      ]
     },
     "execution_count": 7,
     "metadata": {},
     "output_type": "execute_result"
    }
   ],
   "source": [
    "count_unique_Players=len(purchase_Data_Reader[\"SN\"].unique())\n",
    "count_unique_Players"
   ]
  },
  {
   "cell_type": "code",
   "execution_count": 8,
   "metadata": {},
   "outputs": [
    {
     "data": {
      "text/plain": [
       "2286.3299999999963"
      ]
     },
     "execution_count": 8,
     "metadata": {},
     "output_type": "execute_result"
    }
   ],
   "source": [
    "total_revenue=purchase_Data_Reader[\"Price\"].sum()\n",
    "total_revenue"
   ]
  },
  {
   "cell_type": "markdown",
   "metadata": {},
   "source": [
    "## <li><u><i>Gender Demographics</i></u>"
   ]
  },
  {
   "cell_type": "markdown",
   "metadata": {},
   "source": [
    "#### Calculate:\n",
    "<ol>\n",
    "    <li>Percentage and Count of Male Players\n",
    "    <li>Percentage and Count of Female Players\n",
    "    <li>Percentage and Count of Other / Non-Disclosed\n",
    "</ol>"
   ]
  },
  {
   "cell_type": "code",
   "execution_count": 9,
   "metadata": {},
   "outputs": [
    {
     "data": {
      "text/plain": [
       "780"
      ]
     },
     "execution_count": 9,
     "metadata": {},
     "output_type": "execute_result"
    }
   ],
   "source": [
    "total_Gender=purchase_Data_Reader[\"Gender\"].count()\n",
    "total_Gender"
   ]
  },
  {
   "cell_type": "code",
   "execution_count": 10,
   "metadata": {
    "collapsed": true
   },
   "outputs": [],
   "source": [
    "maleCount=len(purchase_Data_Reader.loc[purchase_Data_Reader[\"Gender\"]==\"Male\"])\n",
    "malePercentage=maleCount/total_Gender*100"
   ]
  },
  {
   "cell_type": "code",
   "execution_count": 11,
   "metadata": {
    "collapsed": true
   },
   "outputs": [],
   "source": [
    "femaleCount=len(purchase_Data_Reader.loc[purchase_Data_Reader[\"Gender\"]==\"Female\"])\n",
    "femalePercentage=femaleCount/total_Gender*100"
   ]
  },
  {
   "cell_type": "code",
   "execution_count": 12,
   "metadata": {
    "collapsed": true
   },
   "outputs": [],
   "source": [
    "otherCount=total_Gender-maleCount-femaleCount\n",
    "otherPercentage=otherCount/total_Gender*100"
   ]
  },
  {
   "cell_type": "code",
   "execution_count": 13,
   "metadata": {},
   "outputs": [
    {
     "name": "stdout",
     "output_type": "stream",
     "text": [
      "1.41025641026 17.4358974359 81.1538461538\n"
     ]
    }
   ],
   "source": [
    "print(otherPercentage,femalePercentage,malePercentage)"
   ]
  },
  {
   "cell_type": "markdown",
   "metadata": {},
   "source": [
    " ##  <li><u><i>Purchasing Analysis (Gender) </i></u>"
   ]
  },
  {
   "cell_type": "markdown",
   "metadata": {},
   "source": [
    "#### Calculate the following broken by Gender:\n",
    "<ol>\n",
    "    \n",
    "       <li> Purchase Count</li>= total no.of purchase by each gender\n",
    "        <li>Average Purchase Price</li>=total purchase / purchase count\n",
    "        <li>Total Purchase Value</li>sum of total values by gender\n",
    "        <li>Normalized Totals</li>\n",
    "</ol>"
   ]
  },
  {
   "cell_type": "markdown",
   "metadata": {},
   "source": [
    "### Male:\n",
    "       1. Purchase Count\n",
    "       2. Average Purchase Price\n",
    "       3. Total Purchase Value\n",
    "       4. Normalized Totals"
   ]
  },
  {
   "cell_type": "code",
   "execution_count": 39,
   "metadata": {},
   "outputs": [],
   "source": [
    "maleRows=purchase_Data_Reader.loc[purchase_Data_Reader[\"Gender\"]==\"Male\"]\n",
    "malePurchase=maleRows[\"Item ID\"].count()\n",
    "avg_Male_Purchases=maleRows[\"Price\"].sum()/malePurchase\n",
    "male_total_purchase_Values=maleRows[\"Price\"].sum()\n",
    "normal_male=male_total_purchase_Values/malePurchase\n"
   ]
  },
  {
   "cell_type": "markdown",
   "metadata": {},
   "source": [
    "### Female:\n",
    "       1. Purchase Count\n",
    "       2. Average Purchase Price\n",
    "       3. Total Purchase Value\n",
    "       4. Normalized Totals"
   ]
  },
  {
   "cell_type": "code",
   "execution_count": 15,
   "metadata": {},
   "outputs": [
    {
     "data": {
      "text/plain": [
       "2.815514705882352"
      ]
     },
     "execution_count": 15,
     "metadata": {},
     "output_type": "execute_result"
    }
   ],
   "source": [
    "femaleRows=purchase_Data_Reader.loc[purchase_Data_Reader[\"Gender\"]==\"Female\"]\n",
    "femalePurchase=femaleRows[\"Item ID\"].count()\n",
    "avg_FEMale_Purchases=femaleRows[\"Price\"].sum()/femalePurchase\n",
    "female_total_purchase_Values=femaleRows[\"Price\"].sum()\n",
    "normal_female=female_total_purchase_Values/femalePurchase\n",
    "avg_FEMale_Purchases"
   ]
  },
  {
   "cell_type": "markdown",
   "metadata": {},
   "source": [
    "### Others/Not Disclosed:\n",
    "       1. Purchase Count\n",
    "       2. Average Purchase Price\n",
    "       3. Total Purchase Value\n",
    "       4. Normalized Totals"
   ]
  },
  {
   "cell_type": "code",
   "execution_count": 16,
   "metadata": {},
   "outputs": [
    {
     "data": {
      "text/plain": [
       "3.2490909090909086"
      ]
     },
     "execution_count": 16,
     "metadata": {},
     "output_type": "execute_result"
    }
   ],
   "source": [
    "othersRows=purchase_Data_Reader.loc[(purchase_Data_Reader[\"Gender\"]!=\"Male\") & (purchase_Data_Reader[\"Gender\"]!=\"Female\")]\n",
    "otherPurchase=othersRows[\"Item ID\"].count()\n",
    "avg_others_Purchases=othersRows[\"Price\"].sum()/otherPurchase\n",
    "others_total_purchase_Values=othersRows[\"Price\"].sum()\n",
    "normal_others=others_total_purchase_Values/otherPurchase\n",
    "avg_others_Purchases"
   ]
  },
  {
   "cell_type": "markdown",
   "metadata": {},
   "source": [
    "##  <li><u><i>Age Demographics </i></u>"
   ]
  },
  {
   "cell_type": "markdown",
   "metadata": {},
   "source": [
    "#### Calculate the below each broken into bins of 4 years (i.e. <10, 10-14, 15-19, etc.)\n",
    "    -Purchase Count\n",
    "    -Average Purchase Price\n",
    "    -Total Purchase Value\n",
    "    -Normalized Totals"
   ]
  },
  {
   "cell_type": "code",
   "execution_count": 17,
   "metadata": {},
   "outputs": [
    {
     "name": "stdout",
     "output_type": "stream",
     "text": [
      "Minimum Age: 7\n",
      "Maximum Age: 45\n"
     ]
    }
   ],
   "source": [
    "\n",
    "minAge=purchase_Data_Reader[\"Age\"].min()\n",
    "maxAge=purchase_Data_Reader[\"Age\"].max()\n",
    "print(\"Minimum Age:\",minAge)\n",
    "print(\"Maximum Age:\",maxAge)\n"
   ]
  },
  {
   "cell_type": "markdown",
   "metadata": {},
   "source": []
  },
  {
   "cell_type": "code",
   "execution_count": 18,
   "metadata": {},
   "outputs": [
    {
     "data": {
      "text/html": [
       "<div>\n",
       "<style>\n",
       "    .dataframe thead tr:only-child th {\n",
       "        text-align: right;\n",
       "    }\n",
       "\n",
       "    .dataframe thead th {\n",
       "        text-align: left;\n",
       "    }\n",
       "\n",
       "    .dataframe tbody tr th {\n",
       "        vertical-align: top;\n",
       "    }\n",
       "</style>\n",
       "<table border=\"1\" class=\"dataframe\">\n",
       "  <thead>\n",
       "    <tr style=\"text-align: right;\">\n",
       "      <th></th>\n",
       "      <th>Age</th>\n",
       "      <th>Gender</th>\n",
       "      <th>Item ID</th>\n",
       "      <th>Item Name</th>\n",
       "      <th>Price</th>\n",
       "      <th>SN</th>\n",
       "      <th>Age Group</th>\n",
       "    </tr>\n",
       "  </thead>\n",
       "  <tbody>\n",
       "    <tr>\n",
       "      <th>0</th>\n",
       "      <td>38</td>\n",
       "      <td>Male</td>\n",
       "      <td>165</td>\n",
       "      <td>Bone Crushing Silver Skewer</td>\n",
       "      <td>3.37</td>\n",
       "      <td>Aelalis34</td>\n",
       "      <td>35-39</td>\n",
       "    </tr>\n",
       "    <tr>\n",
       "      <th>1</th>\n",
       "      <td>21</td>\n",
       "      <td>Male</td>\n",
       "      <td>119</td>\n",
       "      <td>Stormbringer, Dark Blade of Ending Misery</td>\n",
       "      <td>2.32</td>\n",
       "      <td>Eolo46</td>\n",
       "      <td>20-24</td>\n",
       "    </tr>\n",
       "    <tr>\n",
       "      <th>2</th>\n",
       "      <td>34</td>\n",
       "      <td>Male</td>\n",
       "      <td>174</td>\n",
       "      <td>Primitive Blade</td>\n",
       "      <td>2.46</td>\n",
       "      <td>Assastnya25</td>\n",
       "      <td>30-34</td>\n",
       "    </tr>\n",
       "    <tr>\n",
       "      <th>3</th>\n",
       "      <td>21</td>\n",
       "      <td>Male</td>\n",
       "      <td>92</td>\n",
       "      <td>Final Critic</td>\n",
       "      <td>1.36</td>\n",
       "      <td>Pheusrical25</td>\n",
       "      <td>20-24</td>\n",
       "    </tr>\n",
       "    <tr>\n",
       "      <th>4</th>\n",
       "      <td>23</td>\n",
       "      <td>Male</td>\n",
       "      <td>63</td>\n",
       "      <td>Stormfury Mace</td>\n",
       "      <td>1.27</td>\n",
       "      <td>Aela59</td>\n",
       "      <td>20-24</td>\n",
       "    </tr>\n",
       "    <tr>\n",
       "      <th>5</th>\n",
       "      <td>20</td>\n",
       "      <td>Male</td>\n",
       "      <td>10</td>\n",
       "      <td>Sleepwalker</td>\n",
       "      <td>1.73</td>\n",
       "      <td>Tanimnya91</td>\n",
       "      <td>20-24</td>\n",
       "    </tr>\n",
       "    <tr>\n",
       "      <th>6</th>\n",
       "      <td>20</td>\n",
       "      <td>Male</td>\n",
       "      <td>153</td>\n",
       "      <td>Mercenary Sabre</td>\n",
       "      <td>4.57</td>\n",
       "      <td>Undjaskla97</td>\n",
       "      <td>20-24</td>\n",
       "    </tr>\n",
       "    <tr>\n",
       "      <th>7</th>\n",
       "      <td>29</td>\n",
       "      <td>Female</td>\n",
       "      <td>169</td>\n",
       "      <td>Interrogator, Blood Blade of the Queen</td>\n",
       "      <td>3.32</td>\n",
       "      <td>Iathenudil29</td>\n",
       "      <td>25-29</td>\n",
       "    </tr>\n",
       "    <tr>\n",
       "      <th>8</th>\n",
       "      <td>25</td>\n",
       "      <td>Male</td>\n",
       "      <td>118</td>\n",
       "      <td>Ghost Reaver, Longsword of Magic</td>\n",
       "      <td>2.77</td>\n",
       "      <td>Sondenasta63</td>\n",
       "      <td>25-29</td>\n",
       "    </tr>\n",
       "    <tr>\n",
       "      <th>9</th>\n",
       "      <td>31</td>\n",
       "      <td>Male</td>\n",
       "      <td>99</td>\n",
       "      <td>Expiration, Warscythe Of Lost Worlds</td>\n",
       "      <td>4.53</td>\n",
       "      <td>Hilaerin92</td>\n",
       "      <td>30-34</td>\n",
       "    </tr>\n",
       "  </tbody>\n",
       "</table>\n",
       "</div>"
      ],
      "text/plain": [
       "   Age  Gender  Item ID                                  Item Name  Price  \\\n",
       "0   38    Male      165                Bone Crushing Silver Skewer   3.37   \n",
       "1   21    Male      119  Stormbringer, Dark Blade of Ending Misery   2.32   \n",
       "2   34    Male      174                            Primitive Blade   2.46   \n",
       "3   21    Male       92                               Final Critic   1.36   \n",
       "4   23    Male       63                             Stormfury Mace   1.27   \n",
       "5   20    Male       10                                Sleepwalker   1.73   \n",
       "6   20    Male      153                            Mercenary Sabre   4.57   \n",
       "7   29  Female      169     Interrogator, Blood Blade of the Queen   3.32   \n",
       "8   25    Male      118           Ghost Reaver, Longsword of Magic   2.77   \n",
       "9   31    Male       99       Expiration, Warscythe Of Lost Worlds   4.53   \n",
       "\n",
       "             SN Age Group  \n",
       "0     Aelalis34     35-39  \n",
       "1        Eolo46     20-24  \n",
       "2   Assastnya25     30-34  \n",
       "3  Pheusrical25     20-24  \n",
       "4        Aela59     20-24  \n",
       "5    Tanimnya91     20-24  \n",
       "6   Undjaskla97     20-24  \n",
       "7  Iathenudil29     25-29  \n",
       "8  Sondenasta63     25-29  \n",
       "9    Hilaerin92     30-34  "
      ]
     },
     "execution_count": 18,
     "metadata": {},
     "output_type": "execute_result"
    }
   ],
   "source": [
    "bins = [0,10, 14, 19, 24, 29,34,39,44]\n",
    "# Create the names for the four bins\n",
    "year_labels = ['<10', '10-14', '15-19', '20-24','25-29','30-34','35-39','40-44']\n",
    "purchase_Data_Reader[\"Age Group\"] = pd.cut(purchase_Data_Reader[\"Age\"],bins,labels=year_labels)\n",
    "purchase_Data_Reader.head(10)"
   ]
  },
  {
   "cell_type": "code",
   "execution_count": 19,
   "metadata": {},
   "outputs": [
    {
     "data": {
      "text/plain": [
       "Age Group\n",
       "<10       32\n",
       "10-14     31\n",
       "15-19    133\n",
       "20-24    336\n",
       "25-29    125\n",
       "30-34     64\n",
       "35-39     42\n",
       "40-44     16\n",
       "Name: Item ID, dtype: int64"
      ]
     },
     "execution_count": 19,
     "metadata": {},
     "output_type": "execute_result"
    }
   ],
   "source": [
    " def age_group(spend_df,criteria):\n",
    "    # criteria is the column based on which the grouping has to be done\n",
    "    group_df=purchase_Data_Reader[criteria].unique()\n",
    "    group_list=[]\n",
    "    for item in group_df:\n",
    "        #for the criteria values in the list retrieve required fields from df\n",
    "        age_df = purchase_Data_Reader[purchase_Data_Reader[criteria] == item]\n",
    "        purchase_count=age_df[\"Item ID\"].count()\n",
    "        purchase_price=age_df[\"Price\"].sum()/purchase_count\n",
    "        total_price=age_df[\"Price\"].sum()\n",
    "        normal_total=total_price/purchase_count\n",
    "       \n",
    "        group_list.append([item,purchase_count,purchase_price,total_price,normal_total])\n",
    "    #create df based on list and return df\n",
    "    age_group_df=pd.DataFrame(school_spend_mark_list,columns=[criteria+' Range','Avg Maths Score','Avg Reading Score','Maths %','Read %',\"Overall %\"])\n",
    "    return grade_school_spend_df "
   ]
  },
  {
   "cell_type": "code",
   "execution_count": 20,
   "metadata": {},
   "outputs": [
    {
     "data": {
      "text/plain": [
       "Age Group\n",
       "<10       96.62\n",
       "10-14     83.79\n",
       "15-19    386.42\n",
       "20-24    978.77\n",
       "25-29    370.33\n",
       "30-34    197.25\n",
       "35-39    119.40\n",
       "40-44     51.03\n",
       "Name: Price, dtype: float64"
      ]
     },
     "execution_count": 20,
     "metadata": {},
     "output_type": "execute_result"
    }
   ],
   "source": [
    "avg_Age_Purchase_price=age_Group_df[\"Price\"].sum()/age_Purchase_Count\n",
    "avg_Age_Purchase_price\n",
    "age_total_Purchase_Value=round(age_Group_df[\"Price\"].sum(),2)\n",
    "age_total_Purchase_Value"
   ]
  },
  {
   "cell_type": "markdown",
   "metadata": {},
   "source": [
    "## Top Spenders\n"
   ]
  },
  {
   "cell_type": "code",
   "execution_count": 21,
   "metadata": {
    "collapsed": true
   },
   "outputs": [],
   "source": [
    "def analysis_final(purchase_Data_Reader,criteria,aggregate_Val):\n",
    "    top_spend=purchase_Data_Reader.groupby([criteria],as_index=False)\n",
    "    top_Purchase=top_spend[aggregate_Val].sum().nlargest(5,aggregate_Val)\n",
    "    top_purchase_list=list(top_Purchase[criteria])\n",
    "    spend_each_list=[] \n",
    "    spend_total_list=[]\n",
    "    for each in top_purchase_list:\n",
    "        each_top_df = purchase_Data_Reader[purchase_Data_Reader[\"SN\"] == each]\n",
    "        purchase_count = each_top_df[\"Item ID\"].count()\n",
    "        purchase_sum=each_top_df[aggregate_Val].sum()\n",
    "        avg_purchase_price=round((purchase_sum/purchase_count),2)\n",
    "        spend_each_list.append([each,purchase_count,avg_purchase_price,purchase_sum])\n",
    "  \n",
    "    df=pd.DataFrame(spend_each_list,columns=['SN','Purchase Count','Avg Purchase Price','Total Purchase'])\n",
    "    return(df)\n",
    "    "
   ]
  },
  {
   "cell_type": "code",
   "execution_count": 22,
   "metadata": {},
   "outputs": [
    {
     "data": {
      "text/html": [
       "<div>\n",
       "<style>\n",
       "    .dataframe thead tr:only-child th {\n",
       "        text-align: right;\n",
       "    }\n",
       "\n",
       "    .dataframe thead th {\n",
       "        text-align: left;\n",
       "    }\n",
       "\n",
       "    .dataframe tbody tr th {\n",
       "        vertical-align: top;\n",
       "    }\n",
       "</style>\n",
       "<table border=\"1\" class=\"dataframe\">\n",
       "  <thead>\n",
       "    <tr style=\"text-align: right;\">\n",
       "      <th></th>\n",
       "      <th>SN</th>\n",
       "      <th>Purchase Count</th>\n",
       "      <th>Avg Purchase Price</th>\n",
       "      <th>Total Purchase</th>\n",
       "    </tr>\n",
       "  </thead>\n",
       "  <tbody>\n",
       "    <tr>\n",
       "      <th>0</th>\n",
       "      <td>Undirrala66</td>\n",
       "      <td>5</td>\n",
       "      <td>3.41</td>\n",
       "      <td>17.06</td>\n",
       "    </tr>\n",
       "    <tr>\n",
       "      <th>1</th>\n",
       "      <td>Saedue76</td>\n",
       "      <td>4</td>\n",
       "      <td>3.39</td>\n",
       "      <td>13.56</td>\n",
       "    </tr>\n",
       "    <tr>\n",
       "      <th>2</th>\n",
       "      <td>Mindimnya67</td>\n",
       "      <td>4</td>\n",
       "      <td>3.18</td>\n",
       "      <td>12.74</td>\n",
       "    </tr>\n",
       "    <tr>\n",
       "      <th>3</th>\n",
       "      <td>Haellysu29</td>\n",
       "      <td>3</td>\n",
       "      <td>4.24</td>\n",
       "      <td>12.73</td>\n",
       "    </tr>\n",
       "    <tr>\n",
       "      <th>4</th>\n",
       "      <td>Eoda93</td>\n",
       "      <td>3</td>\n",
       "      <td>3.86</td>\n",
       "      <td>11.58</td>\n",
       "    </tr>\n",
       "  </tbody>\n",
       "</table>\n",
       "</div>"
      ],
      "text/plain": [
       "            SN  Purchase Count  Avg Purchase Price  Total Purchase\n",
       "0  Undirrala66               5                3.41           17.06\n",
       "1     Saedue76               4                3.39           13.56\n",
       "2  Mindimnya67               4                3.18           12.74\n",
       "3   Haellysu29               3                4.24           12.73\n",
       "4       Eoda93               3                3.86           11.58"
      ]
     },
     "execution_count": 22,
     "metadata": {},
     "output_type": "execute_result"
    }
   ],
   "source": [
    "new_data=analysis_final(purchase_Data_Reader,\"SN\",\"Price\")\n",
    "new_data"
   ]
  },
  {
   "cell_type": "code",
   "execution_count": 35,
   "metadata": {
    "collapsed": true
   },
   "outputs": [],
   "source": [
    "def purchase_count():\n",
    "    purchase=purchase_Data_Reader[\"Item ID\"].unique()\n",
    "    purchase_list=[]\n",
    "    #for each school retrieve values\n",
    "    for item in purchase:\n",
    "        p_count = purchase_Data_Reader[purchase_Data_Reader[\"Item ID\"] == item]\n",
    "        purchase_count=p_count[\"Item ID\"].count()\n",
    "        purchase_name=p_count[\"Item Name\"].unique()[0]\n",
    "        itemPrice=p_count[\"Price\"].unique()[0]\n",
    "        totalValue=p_count[\"Price\"].sum()\n",
    "        purchase_list.append([item,purchase_count,purchase_name,itemPrice,totalValue])\n",
    "        pc_df=pd.DataFrame(purchase_list,columns=[\"Item ID\",\"Purchase Count\",'Item Name',\"Price\",'Total Purchase Value'])\n",
    "    return pc_df"
   ]
  },
  {
   "cell_type": "code",
   "execution_count": null,
   "metadata": {},
   "outputs": [],
   "source": []
  },
  {
   "cell_type": "code",
   "execution_count": 36,
   "metadata": {},
   "outputs": [
    {
     "data": {
      "text/html": [
       "<div>\n",
       "<style>\n",
       "    .dataframe thead tr:only-child th {\n",
       "        text-align: right;\n",
       "    }\n",
       "\n",
       "    .dataframe thead th {\n",
       "        text-align: left;\n",
       "    }\n",
       "\n",
       "    .dataframe tbody tr th {\n",
       "        vertical-align: top;\n",
       "    }\n",
       "</style>\n",
       "<table border=\"1\" class=\"dataframe\">\n",
       "  <thead>\n",
       "    <tr style=\"text-align: right;\">\n",
       "      <th></th>\n",
       "      <th>Item ID</th>\n",
       "      <th>Purchase Count</th>\n",
       "      <th>Item Name</th>\n",
       "      <th>Price</th>\n",
       "      <th>Total Purchase Value</th>\n",
       "    </tr>\n",
       "  </thead>\n",
       "  <tbody>\n",
       "    <tr>\n",
       "      <th>53</th>\n",
       "      <td>39</td>\n",
       "      <td>11</td>\n",
       "      <td>Betrayal, Whisper of Grieving Widows</td>\n",
       "      <td>2.35</td>\n",
       "      <td>25.85</td>\n",
       "    </tr>\n",
       "    <tr>\n",
       "      <th>88</th>\n",
       "      <td>84</td>\n",
       "      <td>11</td>\n",
       "      <td>Arcane Gem</td>\n",
       "      <td>2.23</td>\n",
       "      <td>24.53</td>\n",
       "    </tr>\n",
       "    <tr>\n",
       "      <th>68</th>\n",
       "      <td>175</td>\n",
       "      <td>9</td>\n",
       "      <td>Woeful Adamantite Claymore</td>\n",
       "      <td>1.24</td>\n",
       "      <td>11.16</td>\n",
       "    </tr>\n",
       "    <tr>\n",
       "      <th>33</th>\n",
       "      <td>13</td>\n",
       "      <td>9</td>\n",
       "      <td>Serenity</td>\n",
       "      <td>1.49</td>\n",
       "      <td>13.41</td>\n",
       "    </tr>\n",
       "    <tr>\n",
       "      <th>49</th>\n",
       "      <td>31</td>\n",
       "      <td>9</td>\n",
       "      <td>Trickster</td>\n",
       "      <td>2.07</td>\n",
       "      <td>18.63</td>\n",
       "    </tr>\n",
       "  </tbody>\n",
       "</table>\n",
       "</div>"
      ],
      "text/plain": [
       "    Item ID  Purchase Count                             Item Name  Price  \\\n",
       "53       39              11  Betrayal, Whisper of Grieving Widows   2.35   \n",
       "88       84              11                            Arcane Gem   2.23   \n",
       "68      175               9            Woeful Adamantite Claymore   1.24   \n",
       "33       13               9                              Serenity   1.49   \n",
       "49       31               9                             Trickster   2.07   \n",
       "\n",
       "    Total Purchase Value  \n",
       "53                 25.85  \n",
       "88                 24.53  \n",
       "68                 11.16  \n",
       "33                 13.41  \n",
       "49                 18.63  "
      ]
     },
     "execution_count": 36,
     "metadata": {},
     "output_type": "execute_result"
    }
   ],
   "source": [
    "purchase_df=purchase_count()\n",
    "purchase_df=purchase_df.sort_values(\"Purchase Count\",ascending=False)\n",
    "purchase_df.head()"
   ]
  },
  {
   "cell_type": "code",
   "execution_count": 37,
   "metadata": {},
   "outputs": [
    {
     "data": {
      "text/html": [
       "<div>\n",
       "<style>\n",
       "    .dataframe thead tr:only-child th {\n",
       "        text-align: right;\n",
       "    }\n",
       "\n",
       "    .dataframe thead th {\n",
       "        text-align: left;\n",
       "    }\n",
       "\n",
       "    .dataframe tbody tr th {\n",
       "        vertical-align: top;\n",
       "    }\n",
       "</style>\n",
       "<table border=\"1\" class=\"dataframe\">\n",
       "  <thead>\n",
       "    <tr style=\"text-align: right;\">\n",
       "      <th></th>\n",
       "      <th>Item ID</th>\n",
       "      <th>Purchase Count</th>\n",
       "      <th>Item Name</th>\n",
       "      <th>Price</th>\n",
       "      <th>Total Purchase Value</th>\n",
       "    </tr>\n",
       "  </thead>\n",
       "  <tbody>\n",
       "    <tr>\n",
       "      <th>50</th>\n",
       "      <td>34</td>\n",
       "      <td>9</td>\n",
       "      <td>Retribution Axe</td>\n",
       "      <td>4.14</td>\n",
       "      <td>37.26</td>\n",
       "    </tr>\n",
       "    <tr>\n",
       "      <th>84</th>\n",
       "      <td>115</td>\n",
       "      <td>7</td>\n",
       "      <td>Spectral Diamond Doomblade</td>\n",
       "      <td>4.25</td>\n",
       "      <td>29.75</td>\n",
       "    </tr>\n",
       "    <tr>\n",
       "      <th>45</th>\n",
       "      <td>32</td>\n",
       "      <td>6</td>\n",
       "      <td>Orenmir</td>\n",
       "      <td>4.95</td>\n",
       "      <td>29.70</td>\n",
       "    </tr>\n",
       "    <tr>\n",
       "      <th>79</th>\n",
       "      <td>103</td>\n",
       "      <td>6</td>\n",
       "      <td>Singed Scalpel</td>\n",
       "      <td>4.87</td>\n",
       "      <td>29.22</td>\n",
       "    </tr>\n",
       "    <tr>\n",
       "      <th>112</th>\n",
       "      <td>107</td>\n",
       "      <td>8</td>\n",
       "      <td>Splitter, Foe Of Subtlety</td>\n",
       "      <td>3.61</td>\n",
       "      <td>28.88</td>\n",
       "    </tr>\n",
       "  </tbody>\n",
       "</table>\n",
       "</div>"
      ],
      "text/plain": [
       "     Item ID  Purchase Count                   Item Name  Price  \\\n",
       "50        34               9             Retribution Axe   4.14   \n",
       "84       115               7  Spectral Diamond Doomblade   4.25   \n",
       "45        32               6                     Orenmir   4.95   \n",
       "79       103               6              Singed Scalpel   4.87   \n",
       "112      107               8   Splitter, Foe Of Subtlety   3.61   \n",
       "\n",
       "     Total Purchase Value  \n",
       "50                  37.26  \n",
       "84                  29.75  \n",
       "45                  29.70  \n",
       "79                  29.22  \n",
       "112                 28.88  "
      ]
     },
     "execution_count": 37,
     "metadata": {},
     "output_type": "execute_result"
    }
   ],
   "source": [
    "total_purchase=purchase_count()\n",
    "total_purchase=total_purchase.sort_values(\"Total Purchase Value\",ascending=False)\n",
    "total_purchase.head()"
   ]
  },
  {
   "cell_type": "code",
   "execution_count": null,
   "metadata": {
    "collapsed": true
   },
   "outputs": [],
   "source": []
  }
 ],
 "metadata": {
  "kernelspec": {
   "display_name": "Python 3",
   "language": "python",
   "name": "python3"
  },
  "language_info": {
   "codemirror_mode": {
    "name": "ipython",
    "version": 3
   },
   "file_extension": ".py",
   "mimetype": "text/x-python",
   "name": "python",
   "nbconvert_exporter": "python",
   "pygments_lexer": "ipython3",
   "version": "3.6.3"
  }
 },
 "nbformat": 4,
 "nbformat_minor": 2
}
