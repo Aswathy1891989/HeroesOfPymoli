{
 "cells": [
  {
   "cell_type": "markdown",
   "metadata": {},
   "source": [
    "# Heros Of Pymoli\n",
    "\n",
    "After a lot of hard work in the data munging mines, you've landed a job as Lead Analyst for an independent gaming company. The assigned  task is to analyze the data for their most recent fantasy game Heroes of Pymoli. \n",
    "\n",
    "Like many others in its genre, the game is free-to-play, but players are encouraged to purchase optional items that enhance their playing experience. As a first task, the company would like you to generate a report that breaks down the game's purchasing data into meaningful insights.\n",
    "\n",
    "As the first step, the needed packages as imported. Since data file is json, we need to import json package . "
   ]
  },
  {
   "cell_type": "code",
   "execution_count": 54,
   "metadata": {
    "collapsed": true
   },
   "outputs": [],
   "source": [
    "import pandas as pd\n",
    "import os\n",
    "import json"
   ]
  },
  {
   "cell_type": "markdown",
   "metadata": {},
   "source": [
    "The data is provided in two JSON files. purchase_data.json and purchas_data2.json. Read the files using read_csv function from pandas. Let's define a user defined function to do it. The function reading_file takes filePath, variable which is a string as argument and returns a DataFrame object , which contains the data from .json file"
   ]
  },
  {
   "cell_type": "code",
   "execution_count": 55,
   "metadata": {
    "collapsed": true
   },
   "outputs": [],
   "source": [
    "#define the function to read json file, path of which is passed as argument\n",
    "def reading_File(filePath):\n",
    "    with open(filePath) as datafile:\n",
    "        #loads the file into data\n",
    "        data = json.load(datafile)\n",
    "    #create the dataframe object \n",
    "    purchas_Data_Reader = pd.DataFrame(data)\n",
    "    #return the dataframe object\n",
    "    return purchas_Data_Reader"
   ]
  },
  {
   "cell_type": "code",
   "execution_count": 56,
   "metadata": {
    "scrolled": true
   },
   "outputs": [
    {
     "data": {
      "text/html": [
       "<div>\n",
       "<style>\n",
       "    .dataframe thead tr:only-child th {\n",
       "        text-align: right;\n",
       "    }\n",
       "\n",
       "    .dataframe thead th {\n",
       "        text-align: left;\n",
       "    }\n",
       "\n",
       "    .dataframe tbody tr th {\n",
       "        vertical-align: top;\n",
       "    }\n",
       "</style>\n",
       "<table border=\"1\" class=\"dataframe\">\n",
       "  <thead>\n",
       "    <tr style=\"text-align: right;\">\n",
       "      <th></th>\n",
       "      <th>Age</th>\n",
       "      <th>Gender</th>\n",
       "      <th>Item ID</th>\n",
       "      <th>Item Name</th>\n",
       "      <th>Price</th>\n",
       "      <th>SN</th>\n",
       "    </tr>\n",
       "  </thead>\n",
       "  <tbody>\n",
       "    <tr>\n",
       "      <th>0</th>\n",
       "      <td>20</td>\n",
       "      <td>Male</td>\n",
       "      <td>93</td>\n",
       "      <td>Apocalyptic Battlescythe</td>\n",
       "      <td>4.49</td>\n",
       "      <td>Iloni35</td>\n",
       "    </tr>\n",
       "    <tr>\n",
       "      <th>1</th>\n",
       "      <td>21</td>\n",
       "      <td>Male</td>\n",
       "      <td>12</td>\n",
       "      <td>Dawne</td>\n",
       "      <td>3.36</td>\n",
       "      <td>Aidaira26</td>\n",
       "    </tr>\n",
       "    <tr>\n",
       "      <th>2</th>\n",
       "      <td>17</td>\n",
       "      <td>Male</td>\n",
       "      <td>5</td>\n",
       "      <td>Putrid Fan</td>\n",
       "      <td>2.63</td>\n",
       "      <td>Irim47</td>\n",
       "    </tr>\n",
       "    <tr>\n",
       "      <th>3</th>\n",
       "      <td>17</td>\n",
       "      <td>Male</td>\n",
       "      <td>123</td>\n",
       "      <td>Twilight's Carver</td>\n",
       "      <td>2.55</td>\n",
       "      <td>Irith83</td>\n",
       "    </tr>\n",
       "    <tr>\n",
       "      <th>4</th>\n",
       "      <td>22</td>\n",
       "      <td>Male</td>\n",
       "      <td>154</td>\n",
       "      <td>Feral Katana</td>\n",
       "      <td>4.11</td>\n",
       "      <td>Philodil43</td>\n",
       "    </tr>\n",
       "  </tbody>\n",
       "</table>\n",
       "</div>"
      ],
      "text/plain": [
       "   Age Gender  Item ID                 Item Name  Price          SN\n",
       "0   20   Male       93  Apocalyptic Battlescythe   4.49     Iloni35\n",
       "1   21   Male       12                     Dawne   3.36   Aidaira26\n",
       "2   17   Male        5                Putrid Fan   2.63      Irim47\n",
       "3   17   Male      123         Twilight's Carver   2.55     Irith83\n",
       "4   22   Male      154              Feral Katana   4.11  Philodil43"
      ]
     },
     "execution_count": 56,
     "metadata": {},
     "output_type": "execute_result"
    }
   ],
   "source": [
    "purchase_Data_Reader=reading_File(os.path.join(\"raw_data\",\"purchase_data2.json\"))\n",
    "purchase_Data_Reader.head()"
   ]
  },
  {
   "cell_type": "markdown",
   "metadata": {},
   "source": [
    "Now let's examine whether any null values are present in the data. Dataframe.isnull.any function returns false if there is no null value . It returns true if there is null values in columns"
   ]
  },
  {
   "cell_type": "markdown",
   "metadata": {},
   "source": [
    "\n",
    "## Total Players\n"
   ]
  },
  {
   "cell_type": "code",
   "execution_count": 113,
   "metadata": {
    "collapsed": true
   },
   "outputs": [],
   "source": [
    "def players_count():\n",
    "    #counts number of players\n",
    "    total_Players=purchase_Data_Reader[\"Gender\"].count()\n",
    "    #add to dataframe\n",
    "    tot_players_df=pd.DataFrame({\"Total Players\":[total_Players]})\n",
    "    #return df\n",
    "    return tot_players_df"
   ]
  },
  {
   "cell_type": "code",
   "execution_count": 114,
   "metadata": {},
   "outputs": [
    {
     "data": {
      "text/html": [
       "<div>\n",
       "<style>\n",
       "    .dataframe thead tr:only-child th {\n",
       "        text-align: right;\n",
       "    }\n",
       "\n",
       "    .dataframe thead th {\n",
       "        text-align: left;\n",
       "    }\n",
       "\n",
       "    .dataframe tbody tr th {\n",
       "        vertical-align: top;\n",
       "    }\n",
       "</style>\n",
       "<table border=\"1\" class=\"dataframe\">\n",
       "  <thead>\n",
       "    <tr style=\"text-align: right;\">\n",
       "      <th></th>\n",
       "      <th>Total Players</th>\n",
       "    </tr>\n",
       "  </thead>\n",
       "  <tbody>\n",
       "    <tr>\n",
       "      <th>0</th>\n",
       "      <td>78</td>\n",
       "    </tr>\n",
       "  </tbody>\n",
       "</table>\n",
       "</div>"
      ],
      "text/plain": [
       "   Total Players\n",
       "0             78"
      ]
     },
     "execution_count": 114,
     "metadata": {},
     "output_type": "execute_result"
    }
   ],
   "source": [
    "total_players=players_count()\n",
    "total_players"
   ]
  },
  {
   "cell_type": "markdown",
   "metadata": {},
   "source": [
    "## Purchase Analysis Total"
   ]
  },
  {
   "cell_type": "code",
   "execution_count": 101,
   "metadata": {
    "collapsed": true
   },
   "outputs": [],
   "source": [
    "# Calculates the totals and returns the df\n",
    "def total_analysis():\n",
    "    total_list=[]\n",
    "    # get the unique itens by ITEM ID\n",
    "    unique_items=purchase_Data_Reader[\"Item ID\"].unique()[0]\n",
    "    # calculate average purchase price\n",
    "    avg_Purchase_Price=purchase_Data_Reader[\"Price\"].sum()/unique_items\n",
    "    #calulate total items purchased\n",
    "    total_Purchases=purchase_Data_Reader[\"Price\"].count()\n",
    "    # calculate total revenue from price\n",
    "    total_revenue=purchase_Data_Reader[\"Price\"].sum()\n",
    "    # append to the list\n",
    "    total_list.append([unique_items,avg_Purchase_Price,total_Purchases,total_revenue])\n",
    "    # create the df\n",
    "    total_df=pd.DataFrame(total_list,columns=[\"No.of Unique Items\",\"Average Price\",\"No.of Purchases\",\"Total Revenue\"])\n",
    "    # return the df\n",
    "    return total_df\n"
   ]
  },
  {
   "cell_type": "code",
   "execution_count": 102,
   "metadata": {},
   "outputs": [
    {
     "data": {
      "text/html": [
       "<div>\n",
       "<style>\n",
       "    .dataframe thead tr:only-child th {\n",
       "        text-align: right;\n",
       "    }\n",
       "\n",
       "    .dataframe thead th {\n",
       "        text-align: left;\n",
       "    }\n",
       "\n",
       "    .dataframe tbody tr th {\n",
       "        vertical-align: top;\n",
       "    }\n",
       "</style>\n",
       "<table border=\"1\" class=\"dataframe\">\n",
       "  <thead>\n",
       "    <tr style=\"text-align: right;\">\n",
       "      <th></th>\n",
       "      <th>No.of Unique Items</th>\n",
       "      <th>Average Price</th>\n",
       "      <th>No.of Purchases</th>\n",
       "      <th>Total Revenue</th>\n",
       "    </tr>\n",
       "  </thead>\n",
       "  <tbody>\n",
       "    <tr>\n",
       "      <th>0</th>\n",
       "      <td>93</td>\n",
       "      <td>2.452688</td>\n",
       "      <td>78</td>\n",
       "      <td>228.1</td>\n",
       "    </tr>\n",
       "  </tbody>\n",
       "</table>\n",
       "</div>"
      ],
      "text/plain": [
       "   No.of Unique Items  Average Price  No.of Purchases  Total Revenue\n",
       "0                  93       2.452688               78          228.1"
      ]
     },
     "execution_count": 102,
     "metadata": {},
     "output_type": "execute_result"
    }
   ],
   "source": [
    "total_analysis_df=total_analysis()\n",
    "total_analysis_df"
   ]
  },
  {
   "cell_type": "markdown",
   "metadata": {},
   "source": [
    "## <li><u><i>Gender Demographics</i></u>"
   ]
  },
  {
   "cell_type": "markdown",
   "metadata": {},
   "source": [
    "#### Calculate:\n",
    "<ol>\n",
    "    <li>Percentage and Count of Male Players\n",
    "    <li>Percentage and Count of Female Players\n",
    "    <li>Percentage and Count of Other / Non-Disclosed\n",
    "</ol>"
   ]
  },
  {
   "cell_type": "code",
   "execution_count": 103,
   "metadata": {
    "collapsed": true
   },
   "outputs": [],
   "source": [
    "def gender_total():\n",
    "    # calculates the % of each players\n",
    "    gender_total_df=purchase_Data_Reader[\"Gender\"].unique()\n",
    "    # counts the unique players\n",
    "    count_unique_Players=purchase_Data_Reader[\"Gender\"].count()\n",
    "    gender_total_list=[]\n",
    "    # for each gender , calculate the % and counts\n",
    "    for each in gender_total_df:\n",
    "        rows=purchase_Data_Reader.loc[purchase_Data_Reader[\"Gender\"]==each]\n",
    "        counts=rows[\"Gender\"].count()\n",
    "        percentPlayers=round((counts/count_unique_Players)*100,2)\n",
    "        # append to list\n",
    "        gender_total_list.append([each,percentPlayers,counts])\n",
    "    #return the df\n",
    "    gender_df=pd.DataFrame(gender_total_list,columns=[\"Gender\",\"Percentage Players\", \"Total Count\"])\n",
    "    return gender_df"
   ]
  },
  {
   "cell_type": "code",
   "execution_count": 104,
   "metadata": {},
   "outputs": [
    {
     "data": {
      "text/html": [
       "<div>\n",
       "<style>\n",
       "    .dataframe thead tr:only-child th {\n",
       "        text-align: right;\n",
       "    }\n",
       "\n",
       "    .dataframe thead th {\n",
       "        text-align: left;\n",
       "    }\n",
       "\n",
       "    .dataframe tbody tr th {\n",
       "        vertical-align: top;\n",
       "    }\n",
       "</style>\n",
       "<table border=\"1\" class=\"dataframe\">\n",
       "  <thead>\n",
       "    <tr style=\"text-align: right;\">\n",
       "      <th></th>\n",
       "      <th>Gender</th>\n",
       "      <th>Percentage Players</th>\n",
       "      <th>Total Count</th>\n",
       "    </tr>\n",
       "  </thead>\n",
       "  <tbody>\n",
       "    <tr>\n",
       "      <th>0</th>\n",
       "      <td>Male</td>\n",
       "      <td>82.05</td>\n",
       "      <td>64</td>\n",
       "    </tr>\n",
       "    <tr>\n",
       "      <th>1</th>\n",
       "      <td>Female</td>\n",
       "      <td>16.67</td>\n",
       "      <td>13</td>\n",
       "    </tr>\n",
       "    <tr>\n",
       "      <th>2</th>\n",
       "      <td>Other / Non-Disclosed</td>\n",
       "      <td>1.28</td>\n",
       "      <td>1</td>\n",
       "    </tr>\n",
       "  </tbody>\n",
       "</table>\n",
       "</div>"
      ],
      "text/plain": [
       "                  Gender  Percentage Players  Total Count\n",
       "0                   Male               82.05           64\n",
       "1                 Female               16.67           13\n",
       "2  Other / Non-Disclosed                1.28            1"
      ]
     },
     "execution_count": 104,
     "metadata": {},
     "output_type": "execute_result"
    }
   ],
   "source": [
    "total_Gender=gender_total()\n",
    "total_Gender.head()"
   ]
  },
  {
   "cell_type": "markdown",
   "metadata": {},
   "source": [
    " ##  <li><u><i>Purchasing Analysis (Gender) </i></u>"
   ]
  },
  {
   "cell_type": "markdown",
   "metadata": {},
   "source": [
    "#### Calculate the following broken by Gender:\n",
    "<ol>\n",
    "    \n",
    "       <li> Purchase Count= total no.of purchase by each gender</li>\n",
    "        <li>Average Purchase Price=total purchase / purchase count</li>\n",
    "        <li>Total Purchase Value=sum of total values by gender</li>\n",
    "        <li>Normalized Totals</li>\n",
    "</ol>"
   ]
  },
  {
   "cell_type": "code",
   "execution_count": 86,
   "metadata": {},
   "outputs": [],
   "source": [
    "def gender_Analysis():\n",
    "    # runs the gender based analysis on data\n",
    "    # find the unique gender in the data\n",
    "    gender_group_df=purchase_Data_Reader[\"Gender\"].unique()\n",
    "    gender_list=[]\n",
    "    # for all gender types, calculates the analysis\n",
    "    for gender in gender_group_df:\n",
    "        rows=purchase_Data_Reader.loc[purchase_Data_Reader[\"Gender\"]==gender]\n",
    "        Purchase=rows[\"Item ID\"].count()\n",
    "        avgPurchases=rows[\"Price\"].sum()/Purchase\n",
    "        total_purchase_Values=rows[\"Price\"].sum()\n",
    "        normalized=total_purchase_Values/Purchase\n",
    "        # append to list\n",
    "        gender_list.append([gender,Purchase,avgPurchases,total_purchase_Values,normalized])\n",
    "    # return df\n",
    "    gender_df=pd.DataFrame(gender_list,columns=[\"Gender\",\"Purchase Count\", \"Average Purchase Price\",\"Total Purchase Value\",\"Normalized Totals\"])\n",
    "    return gender_df"
   ]
  },
  {
   "cell_type": "code",
   "execution_count": 87,
   "metadata": {},
   "outputs": [
    {
     "data": {
      "text/html": [
       "<div>\n",
       "<style>\n",
       "    .dataframe thead tr:only-child th {\n",
       "        text-align: right;\n",
       "    }\n",
       "\n",
       "    .dataframe thead th {\n",
       "        text-align: left;\n",
       "    }\n",
       "\n",
       "    .dataframe tbody tr th {\n",
       "        vertical-align: top;\n",
       "    }\n",
       "</style>\n",
       "<table border=\"1\" class=\"dataframe\">\n",
       "  <thead>\n",
       "    <tr style=\"text-align: right;\">\n",
       "      <th></th>\n",
       "      <th>Gender</th>\n",
       "      <th>Purchase Count</th>\n",
       "      <th>Average Purchase Price</th>\n",
       "      <th>Total Purchase Value</th>\n",
       "      <th>Normalized Totals</th>\n",
       "    </tr>\n",
       "  </thead>\n",
       "  <tbody>\n",
       "    <tr>\n",
       "      <th>0</th>\n",
       "      <td>Male</td>\n",
       "      <td>64</td>\n",
       "      <td>2.884375</td>\n",
       "      <td>184.60</td>\n",
       "      <td>2.884375</td>\n",
       "    </tr>\n",
       "    <tr>\n",
       "      <th>1</th>\n",
       "      <td>Female</td>\n",
       "      <td>13</td>\n",
       "      <td>3.183077</td>\n",
       "      <td>41.38</td>\n",
       "      <td>3.183077</td>\n",
       "    </tr>\n",
       "    <tr>\n",
       "      <th>2</th>\n",
       "      <td>Other / Non-Disclosed</td>\n",
       "      <td>1</td>\n",
       "      <td>2.120000</td>\n",
       "      <td>2.12</td>\n",
       "      <td>2.120000</td>\n",
       "    </tr>\n",
       "  </tbody>\n",
       "</table>\n",
       "</div>"
      ],
      "text/plain": [
       "                  Gender  Purchase Count  Average Purchase Price  \\\n",
       "0                   Male              64                2.884375   \n",
       "1                 Female              13                3.183077   \n",
       "2  Other / Non-Disclosed               1                2.120000   \n",
       "\n",
       "   Total Purchase Value  Normalized Totals  \n",
       "0                184.60           2.884375  \n",
       "1                 41.38           3.183077  \n",
       "2                  2.12           2.120000  "
      ]
     },
     "execution_count": 87,
     "metadata": {},
     "output_type": "execute_result"
    }
   ],
   "source": [
    "gender_Analyis=gender_Analysis()\n",
    "gender_Analyis"
   ]
  },
  {
   "cell_type": "markdown",
   "metadata": {},
   "source": [
    "##  <li><u><i>Age Demographics </i></u>"
   ]
  },
  {
   "cell_type": "markdown",
   "metadata": {},
   "source": [
    "#### Calculate the below each broken into bins of 4 years (i.e. <10, 10-14, 15-19, etc.)\n",
    "    -Purchase Count\n",
    "    -Average Purchase Price\n",
    "    -Total Purchase Value\n",
    "    -Normalized Totals"
   ]
  },
  {
   "cell_type": "code",
   "execution_count": 70,
   "metadata": {},
   "outputs": [
    {
     "data": {
      "text/plain": [
       "[20-25, 15-19, <10, 40-44, 25-29, 35-39, 30-34, 10-14]\n",
       "Categories (8, object): [<10 < 10-14 < 15-19 < 20-25 < 25-29 < 30-34 < 35-39 < 40-44]"
      ]
     },
     "execution_count": 70,
     "metadata": {},
     "output_type": "execute_result"
    }
   ],
   "source": [
    "#create the bins\n",
    "bins = [0,10, 14, 19, 24, 29,34,39,44]\n",
    "# Create the names for the four bins\n",
    "year_labels = ['<10', '10-14', '15-19', '20-25','25-29','30-34','35-39','40-44']\n",
    "purchase_Data_Reader[\"Age Group\"] = pd.cut(purchase_Data_Reader[\"Age\"],bins,labels=year_labels)\n",
    "purchase_Data_Reader[\"Age Group\"].unique()"
   ]
  },
  {
   "cell_type": "code",
   "execution_count": 71,
   "metadata": {},
   "outputs": [],
   "source": [
    " def age_group(criteria):\n",
    "    # criteria is the column based on which the grouping has to be done\n",
    "    group_df=purchase_Data_Reader[criteria].unique()\n",
    "    group_list=[]\n",
    "    for item in group_df:\n",
    "        #for the criteria values in the list retrieve required fields from df\n",
    "        age_df = purchase_Data_Reader[purchase_Data_Reader[criteria] == item]\n",
    "        purchase_count=age_df[\"Item ID\"].count()\n",
    "        purchase_price=age_df[\"Price\"].sum()/purchase_count\n",
    "        total_price=age_df[\"Price\"].sum()\n",
    "        normal_total=total_price/purchase_count\n",
    "       \n",
    "        group_list.append([item,purchase_count,purchase_price,total_price,normal_total])\n",
    "    #create df based on list and return df\n",
    "    age_group_df=pd.DataFrame(group_list,columns=[criteria+' Range','Purchase Count','Average PRICE','Total Price','Normalized Total'])\n",
    "    return age_group_df "
   ]
  },
  {
   "cell_type": "code",
   "execution_count": 72,
   "metadata": {},
   "outputs": [
    {
     "data": {
      "text/html": [
       "<div>\n",
       "<style>\n",
       "    .dataframe thead tr:only-child th {\n",
       "        text-align: right;\n",
       "    }\n",
       "\n",
       "    .dataframe thead th {\n",
       "        text-align: left;\n",
       "    }\n",
       "\n",
       "    .dataframe tbody tr th {\n",
       "        vertical-align: top;\n",
       "    }\n",
       "</style>\n",
       "<table border=\"1\" class=\"dataframe\">\n",
       "  <thead>\n",
       "    <tr style=\"text-align: right;\">\n",
       "      <th></th>\n",
       "      <th>Age Group Range</th>\n",
       "      <th>Purchase Count</th>\n",
       "      <th>Average PRICE</th>\n",
       "      <th>Total Price</th>\n",
       "      <th>Normalized Total</th>\n",
       "    </tr>\n",
       "  </thead>\n",
       "  <tbody>\n",
       "    <tr>\n",
       "      <th>0</th>\n",
       "      <td>20-25</td>\n",
       "      <td>36</td>\n",
       "      <td>3.024722</td>\n",
       "      <td>108.89</td>\n",
       "      <td>3.024722</td>\n",
       "    </tr>\n",
       "    <tr>\n",
       "      <th>1</th>\n",
       "      <td>15-19</td>\n",
       "      <td>11</td>\n",
       "      <td>2.764545</td>\n",
       "      <td>30.41</td>\n",
       "      <td>2.764545</td>\n",
       "    </tr>\n",
       "    <tr>\n",
       "      <th>2</th>\n",
       "      <td>&lt;10</td>\n",
       "      <td>5</td>\n",
       "      <td>2.764000</td>\n",
       "      <td>13.82</td>\n",
       "      <td>2.764000</td>\n",
       "    </tr>\n",
       "    <tr>\n",
       "      <th>3</th>\n",
       "      <td>40-44</td>\n",
       "      <td>1</td>\n",
       "      <td>4.650000</td>\n",
       "      <td>4.65</td>\n",
       "      <td>4.650000</td>\n",
       "    </tr>\n",
       "    <tr>\n",
       "      <th>4</th>\n",
       "      <td>25-29</td>\n",
       "      <td>9</td>\n",
       "      <td>2.901111</td>\n",
       "      <td>26.11</td>\n",
       "      <td>2.901111</td>\n",
       "    </tr>\n",
       "    <tr>\n",
       "      <th>5</th>\n",
       "      <td>35-39</td>\n",
       "      <td>6</td>\n",
       "      <td>3.561667</td>\n",
       "      <td>21.37</td>\n",
       "      <td>3.561667</td>\n",
       "    </tr>\n",
       "    <tr>\n",
       "      <th>6</th>\n",
       "      <td>30-34</td>\n",
       "      <td>7</td>\n",
       "      <td>1.984286</td>\n",
       "      <td>13.89</td>\n",
       "      <td>1.984286</td>\n",
       "    </tr>\n",
       "    <tr>\n",
       "      <th>7</th>\n",
       "      <td>10-14</td>\n",
       "      <td>3</td>\n",
       "      <td>2.986667</td>\n",
       "      <td>8.96</td>\n",
       "      <td>2.986667</td>\n",
       "    </tr>\n",
       "  </tbody>\n",
       "</table>\n",
       "</div>"
      ],
      "text/plain": [
       "  Age Group Range  Purchase Count  Average PRICE  Total Price  \\\n",
       "0           20-25              36       3.024722       108.89   \n",
       "1           15-19              11       2.764545        30.41   \n",
       "2             <10               5       2.764000        13.82   \n",
       "3           40-44               1       4.650000         4.65   \n",
       "4           25-29               9       2.901111        26.11   \n",
       "5           35-39               6       3.561667        21.37   \n",
       "6           30-34               7       1.984286        13.89   \n",
       "7           10-14               3       2.986667         8.96   \n",
       "\n",
       "   Normalized Total  \n",
       "0          3.024722  \n",
       "1          2.764545  \n",
       "2          2.764000  \n",
       "3          4.650000  \n",
       "4          2.901111  \n",
       "5          3.561667  \n",
       "6          1.984286  \n",
       "7          2.986667  "
      ]
     },
     "execution_count": 72,
     "metadata": {},
     "output_type": "execute_result"
    }
   ],
   "source": [
    "age_df=age_group(\"Age Group\")\n",
    "age_df=age_df.dropna(how=\"any\")\n",
    "age_df"
   ]
  },
  {
   "cell_type": "markdown",
   "metadata": {},
   "source": [
    "## Top Spenders\n"
   ]
  },
  {
   "cell_type": "code",
   "execution_count": 73,
   "metadata": {
    "collapsed": true
   },
   "outputs": [],
   "source": [
    "def analysis_final(purchase_Data_Reader,criteria,aggregate_Val):\n",
    "    # calculates the top spender based on criteria and value. Here it is username and price\n",
    "    #group based on SN\n",
    "    top_spend=purchase_Data_Reader.groupby([criteria],as_index=False)\n",
    "    #retrieves the top 5 values\n",
    "    top_Purchase=top_spend[aggregate_Val].sum().nlargest(5,aggregate_Val)\n",
    "    # convert the df to list\n",
    "    top_purchase_list=list(top_Purchase[criteria])\n",
    "    spend_each_list=[] \n",
    "    spend_total_list=[]\n",
    "    # calculate the values for each value in list\n",
    "    for each in top_purchase_list:\n",
    "        each_top_df = purchase_Data_Reader[purchase_Data_Reader[\"SN\"] == each]\n",
    "        purchase_count = each_top_df[\"Item ID\"].count()\n",
    "        purchase_sum=each_top_df[aggregate_Val].sum()\n",
    "        avg_purchase_price=round((purchase_sum/purchase_count),2)\n",
    "        #append to the list\n",
    "        spend_each_list.append([each,purchase_count,avg_purchase_price,purchase_sum])\n",
    "    # return the df\n",
    "    df=pd.DataFrame(spend_each_list,columns=['SN','Purchase Count','Avg Purchase Price','Total Purchase'])\n",
    "    return(df)\n",
    "    "
   ]
  },
  {
   "cell_type": "code",
   "execution_count": 74,
   "metadata": {},
   "outputs": [
    {
     "data": {
      "text/html": [
       "<div>\n",
       "<style>\n",
       "    .dataframe thead tr:only-child th {\n",
       "        text-align: right;\n",
       "    }\n",
       "\n",
       "    .dataframe thead th {\n",
       "        text-align: left;\n",
       "    }\n",
       "\n",
       "    .dataframe tbody tr th {\n",
       "        vertical-align: top;\n",
       "    }\n",
       "</style>\n",
       "<table border=\"1\" class=\"dataframe\">\n",
       "  <thead>\n",
       "    <tr style=\"text-align: right;\">\n",
       "      <th></th>\n",
       "      <th>SN</th>\n",
       "      <th>Purchase Count</th>\n",
       "      <th>Avg Purchase Price</th>\n",
       "      <th>Total Purchase</th>\n",
       "    </tr>\n",
       "  </thead>\n",
       "  <tbody>\n",
       "    <tr>\n",
       "      <th>0</th>\n",
       "      <td>Sundaky74</td>\n",
       "      <td>2</td>\n",
       "      <td>3.70</td>\n",
       "      <td>7.41</td>\n",
       "    </tr>\n",
       "    <tr>\n",
       "      <th>1</th>\n",
       "      <td>Aidaira26</td>\n",
       "      <td>2</td>\n",
       "      <td>2.56</td>\n",
       "      <td>5.13</td>\n",
       "    </tr>\n",
       "    <tr>\n",
       "      <th>2</th>\n",
       "      <td>Eusty71</td>\n",
       "      <td>1</td>\n",
       "      <td>4.81</td>\n",
       "      <td>4.81</td>\n",
       "    </tr>\n",
       "    <tr>\n",
       "      <th>3</th>\n",
       "      <td>Chanirra64</td>\n",
       "      <td>1</td>\n",
       "      <td>4.78</td>\n",
       "      <td>4.78</td>\n",
       "    </tr>\n",
       "    <tr>\n",
       "      <th>4</th>\n",
       "      <td>Alarap40</td>\n",
       "      <td>1</td>\n",
       "      <td>4.71</td>\n",
       "      <td>4.71</td>\n",
       "    </tr>\n",
       "  </tbody>\n",
       "</table>\n",
       "</div>"
      ],
      "text/plain": [
       "           SN  Purchase Count  Avg Purchase Price  Total Purchase\n",
       "0   Sundaky74               2                3.70            7.41\n",
       "1   Aidaira26               2                2.56            5.13\n",
       "2     Eusty71               1                4.81            4.81\n",
       "3  Chanirra64               1                4.78            4.78\n",
       "4    Alarap40               1                4.71            4.71"
      ]
     },
     "execution_count": 74,
     "metadata": {},
     "output_type": "execute_result"
    }
   ],
   "source": [
    "new_data=analysis_final(purchase_Data_Reader,\"SN\",\"Price\")\n",
    "new_data"
   ]
  },
  {
   "cell_type": "markdown",
   "metadata": {},
   "source": [
    "## Popular and Profitable Items"
   ]
  },
  {
   "cell_type": "code",
   "execution_count": 75,
   "metadata": {
    "collapsed": true
   },
   "outputs": [],
   "source": [
    "def purchase_count():\n",
    "    #returns a df with Item details, purchase counts, and total price\n",
    "    purchase=purchase_Data_Reader[\"Item ID\"].unique()\n",
    "    purchase_list=[]\n",
    "    #for each school retrieve values\n",
    "    for item in purchase:\n",
    "        p_count = purchase_Data_Reader[purchase_Data_Reader[\"Item ID\"] == item]\n",
    "        purchase_count=p_count[\"Item ID\"].count()\n",
    "        purchase_name=p_count[\"Item Name\"].unique()[0]\n",
    "        itemPrice=p_count[\"Price\"].unique()[0]\n",
    "        totalValue=p_count[\"Price\"].sum()\n",
    "        # append to list\n",
    "        purchase_list.append([item,purchase_count,purchase_name,itemPrice,totalValue])\n",
    "        #create df\n",
    "        pc_df=pd.DataFrame(purchase_list,columns=[\"Item ID\",\"Purchase Count\",'Item Name',\"Price\",'Total Purchase Value'])\n",
    "    #returns df\n",
    "    return pc_df"
   ]
  },
  {
   "cell_type": "markdown",
   "metadata": {},
   "source": [
    "### Most Popular Items"
   ]
  },
  {
   "cell_type": "code",
   "execution_count": 76,
   "metadata": {},
   "outputs": [
    {
     "data": {
      "text/html": [
       "<div>\n",
       "<style>\n",
       "    .dataframe thead tr:only-child th {\n",
       "        text-align: right;\n",
       "    }\n",
       "\n",
       "    .dataframe thead th {\n",
       "        text-align: left;\n",
       "    }\n",
       "\n",
       "    .dataframe tbody tr th {\n",
       "        vertical-align: top;\n",
       "    }\n",
       "</style>\n",
       "<table border=\"1\" class=\"dataframe\">\n",
       "  <thead>\n",
       "    <tr style=\"text-align: right;\">\n",
       "      <th></th>\n",
       "      <th>Item ID</th>\n",
       "      <th>Purchase Count</th>\n",
       "      <th>Item Name</th>\n",
       "      <th>Price</th>\n",
       "      <th>Total Purchase Value</th>\n",
       "    </tr>\n",
       "  </thead>\n",
       "  <tbody>\n",
       "    <tr>\n",
       "      <th>15</th>\n",
       "      <td>94</td>\n",
       "      <td>3</td>\n",
       "      <td>Mourning Blade</td>\n",
       "      <td>3.64</td>\n",
       "      <td>10.92</td>\n",
       "    </tr>\n",
       "    <tr>\n",
       "      <th>0</th>\n",
       "      <td>93</td>\n",
       "      <td>2</td>\n",
       "      <td>Apocalyptic Battlescythe</td>\n",
       "      <td>4.49</td>\n",
       "      <td>8.98</td>\n",
       "    </tr>\n",
       "    <tr>\n",
       "      <th>10</th>\n",
       "      <td>126</td>\n",
       "      <td>2</td>\n",
       "      <td>Exiled Mithril Longsword</td>\n",
       "      <td>1.08</td>\n",
       "      <td>2.16</td>\n",
       "    </tr>\n",
       "    <tr>\n",
       "      <th>39</th>\n",
       "      <td>64</td>\n",
       "      <td>2</td>\n",
       "      <td>Fusion Pummel</td>\n",
       "      <td>2.42</td>\n",
       "      <td>4.84</td>\n",
       "    </tr>\n",
       "    <tr>\n",
       "      <th>33</th>\n",
       "      <td>108</td>\n",
       "      <td>2</td>\n",
       "      <td>Extraction, Quickblade Of Trembling Hands</td>\n",
       "      <td>2.26</td>\n",
       "      <td>4.52</td>\n",
       "    </tr>\n",
       "  </tbody>\n",
       "</table>\n",
       "</div>"
      ],
      "text/plain": [
       "    Item ID  Purchase Count                                  Item Name  Price  \\\n",
       "15       94               3                             Mourning Blade   3.64   \n",
       "0        93               2                   Apocalyptic Battlescythe   4.49   \n",
       "10      126               2                   Exiled Mithril Longsword   1.08   \n",
       "39       64               2                              Fusion Pummel   2.42   \n",
       "33      108               2  Extraction, Quickblade Of Trembling Hands   2.26   \n",
       "\n",
       "    Total Purchase Value  \n",
       "15                 10.92  \n",
       "0                   8.98  \n",
       "10                  2.16  \n",
       "39                  4.84  \n",
       "33                  4.52  "
      ]
     },
     "execution_count": 76,
     "metadata": {},
     "output_type": "execute_result"
    }
   ],
   "source": [
    "purchase_df=purchase_count()\n",
    "# create the df by calling function and sort based on Purchase count\n",
    "purchase_df=purchase_df.sort_values(\"Purchase Count\",ascending=False)\n",
    "purchase_df.head()"
   ]
  },
  {
   "cell_type": "markdown",
   "metadata": {},
   "source": [
    "### Most Profitable Items"
   ]
  },
  {
   "cell_type": "code",
   "execution_count": 77,
   "metadata": {},
   "outputs": [
    {
     "data": {
      "text/html": [
       "<div>\n",
       "<style>\n",
       "    .dataframe thead tr:only-child th {\n",
       "        text-align: right;\n",
       "    }\n",
       "\n",
       "    .dataframe thead th {\n",
       "        text-align: left;\n",
       "    }\n",
       "\n",
       "    .dataframe tbody tr th {\n",
       "        vertical-align: top;\n",
       "    }\n",
       "</style>\n",
       "<table border=\"1\" class=\"dataframe\">\n",
       "  <thead>\n",
       "    <tr style=\"text-align: right;\">\n",
       "      <th></th>\n",
       "      <th>Item ID</th>\n",
       "      <th>Purchase Count</th>\n",
       "      <th>Item Name</th>\n",
       "      <th>Price</th>\n",
       "      <th>Total Purchase Value</th>\n",
       "    </tr>\n",
       "  </thead>\n",
       "  <tbody>\n",
       "    <tr>\n",
       "      <th>15</th>\n",
       "      <td>94</td>\n",
       "      <td>3</td>\n",
       "      <td>Mourning Blade</td>\n",
       "      <td>3.64</td>\n",
       "      <td>10.92</td>\n",
       "    </tr>\n",
       "    <tr>\n",
       "      <th>26</th>\n",
       "      <td>117</td>\n",
       "      <td>2</td>\n",
       "      <td>Heartstriker, Legacy of the Light</td>\n",
       "      <td>4.71</td>\n",
       "      <td>9.42</td>\n",
       "    </tr>\n",
       "    <tr>\n",
       "      <th>0</th>\n",
       "      <td>93</td>\n",
       "      <td>2</td>\n",
       "      <td>Apocalyptic Battlescythe</td>\n",
       "      <td>4.49</td>\n",
       "      <td>8.98</td>\n",
       "    </tr>\n",
       "    <tr>\n",
       "      <th>12</th>\n",
       "      <td>90</td>\n",
       "      <td>2</td>\n",
       "      <td>Betrayer</td>\n",
       "      <td>4.12</td>\n",
       "      <td>8.24</td>\n",
       "    </tr>\n",
       "    <tr>\n",
       "      <th>4</th>\n",
       "      <td>154</td>\n",
       "      <td>2</td>\n",
       "      <td>Feral Katana</td>\n",
       "      <td>4.11</td>\n",
       "      <td>8.22</td>\n",
       "    </tr>\n",
       "  </tbody>\n",
       "</table>\n",
       "</div>"
      ],
      "text/plain": [
       "    Item ID  Purchase Count                          Item Name  Price  \\\n",
       "15       94               3                     Mourning Blade   3.64   \n",
       "26      117               2  Heartstriker, Legacy of the Light   4.71   \n",
       "0        93               2           Apocalyptic Battlescythe   4.49   \n",
       "12       90               2                           Betrayer   4.12   \n",
       "4       154               2                       Feral Katana   4.11   \n",
       "\n",
       "    Total Purchase Value  \n",
       "15                 10.92  \n",
       "26                  9.42  \n",
       "0                   8.98  \n",
       "12                  8.24  \n",
       "4                   8.22  "
      ]
     },
     "execution_count": 77,
     "metadata": {},
     "output_type": "execute_result"
    }
   ],
   "source": [
    "total_purchase=purchase_count()\n",
    "# create the df by calling function and sort based on Total Purchase Value\n",
    "total_purchase=total_purchase.sort_values(\"Total Purchase Value\",ascending=False)\n",
    "total_purchase.head()"
   ]
  },
  {
   "cell_type": "code",
   "execution_count": null,
   "metadata": {
    "collapsed": true
   },
   "outputs": [],
   "source": []
  }
 ],
 "metadata": {
  "kernelspec": {
   "display_name": "Python 3",
   "language": "python",
   "name": "python3"
  },
  "language_info": {
   "codemirror_mode": {
    "name": "ipython",
    "version": 3
   },
   "file_extension": ".py",
   "mimetype": "text/x-python",
   "name": "python",
   "nbconvert_exporter": "python",
   "pygments_lexer": "ipython3",
   "version": "3.6.3"
  }
 },
 "nbformat": 4,
 "nbformat_minor": 2
}
