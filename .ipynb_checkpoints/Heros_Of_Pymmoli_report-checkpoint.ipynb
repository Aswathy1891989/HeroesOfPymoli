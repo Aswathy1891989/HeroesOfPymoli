{
 "cells": [
  {
   "cell_type": "markdown",
   "metadata": {},
   "source": [
    "# Heros Of Pymoli\n",
    "\n",
    "After a lot of hard work in the data munging mines, you've landed a job as Lead Analyst for an independent gaming company. The assigned  task is to analyze the data for their most recent fantasy game Heroes of Pymoli. \n",
    "\n",
    "Like many others in its genre, the game is free-to-play, but players are encouraged to purchase optional items that enhance their playing experience. As a first task, the company would like you to generate a report that breaks down the game's purchasing data into meaningful insights.\n",
    "\n",
    "As the first step, the needed packages as imported. Since data file is json, we need to import json package . "
   ]
  },
  {
   "cell_type": "code",
   "execution_count": 54,
   "metadata": {
    "collapsed": true
   },
   "outputs": [],
   "source": [
    "import pandas as pd\n",
    "import os\n",
    "import json"
   ]
  },
  {
   "cell_type": "markdown",
   "metadata": {},
   "source": [
    "The data is provided in two JSON files. purchase_data.json and purchas_data2.json. Read the files using read_csv function from pandas. Let's define a user defined function to do it. The function reading_file takes filePath, variable which is a string as argument and returns a DataFrame object , which contains the data from .json file"
   ]
  },
  {
   "cell_type": "code",
   "execution_count": 55,
   "metadata": {
    "collapsed": true
   },
   "outputs": [],
   "source": [
    "#define the function to read json file, path of which is passed as argument\n",
    "def reading_File(filePath):\n",
    "    with open(filePath) as datafile:\n",
    "        #loads the file into data\n",
    "        data = json.load(datafile)\n",
    "    #create the dataframe object \n",
    "    purchas_Data_Reader = pd.DataFrame(data)\n",
    "    #return the dataframe object\n",
    "    return purchas_Data_Reader"
   ]
  },
  {
   "cell_type": "code",
   "execution_count": 115,
   "metadata": {
    "scrolled": true
   },
   "outputs": [
    {
     "data": {
      "text/html": [
       "<div>\n",
       "<style>\n",
       "    .dataframe thead tr:only-child th {\n",
       "        text-align: right;\n",
       "    }\n",
       "\n",
       "    .dataframe thead th {\n",
       "        text-align: left;\n",
       "    }\n",
       "\n",
       "    .dataframe tbody tr th {\n",
       "        vertical-align: top;\n",
       "    }\n",
       "</style>\n",
       "<table border=\"1\" class=\"dataframe\">\n",
       "  <thead>\n",
       "    <tr style=\"text-align: right;\">\n",
       "      <th></th>\n",
       "      <th>Age</th>\n",
       "      <th>Gender</th>\n",
       "      <th>Item ID</th>\n",
       "      <th>Item Name</th>\n",
       "      <th>Price</th>\n",
       "      <th>SN</th>\n",
       "    </tr>\n",
       "  </thead>\n",
       "  <tbody>\n",
       "    <tr>\n",
       "      <th>0</th>\n",
       "      <td>20</td>\n",
       "      <td>Male</td>\n",
       "      <td>93</td>\n",
       "      <td>Apocalyptic Battlescythe</td>\n",
       "      <td>4.49</td>\n",
       "      <td>Iloni35</td>\n",
       "    </tr>\n",
       "    <tr>\n",
       "      <th>1</th>\n",
       "      <td>21</td>\n",
       "      <td>Male</td>\n",
       "      <td>12</td>\n",
       "      <td>Dawne</td>\n",
       "      <td>3.36</td>\n",
       "      <td>Aidaira26</td>\n",
       "    </tr>\n",
       "    <tr>\n",
       "      <th>2</th>\n",
       "      <td>17</td>\n",
       "      <td>Male</td>\n",
       "      <td>5</td>\n",
       "      <td>Putrid Fan</td>\n",
       "      <td>2.63</td>\n",
       "      <td>Irim47</td>\n",
       "    </tr>\n",
       "    <tr>\n",
       "      <th>3</th>\n",
       "      <td>17</td>\n",
       "      <td>Male</td>\n",
       "      <td>123</td>\n",
       "      <td>Twilight's Carver</td>\n",
       "      <td>2.55</td>\n",
       "      <td>Irith83</td>\n",
       "    </tr>\n",
       "    <tr>\n",
       "      <th>4</th>\n",
       "      <td>22</td>\n",
       "      <td>Male</td>\n",
       "      <td>154</td>\n",
       "      <td>Feral Katana</td>\n",
       "      <td>4.11</td>\n",
       "      <td>Philodil43</td>\n",
       "    </tr>\n",
       "  </tbody>\n",
       "</table>\n",
       "</div>"
      ],
      "text/plain": [
       "   Age Gender  Item ID                 Item Name  Price          SN\n",
       "0   20   Male       93  Apocalyptic Battlescythe   4.49     Iloni35\n",
       "1   21   Male       12                     Dawne   3.36   Aidaira26\n",
       "2   17   Male        5                Putrid Fan   2.63      Irim47\n",
       "3   17   Male      123         Twilight's Carver   2.55     Irith83\n",
       "4   22   Male      154              Feral Katana   4.11  Philodil43"
      ]
     },
     "execution_count": 115,
     "metadata": {},
     "output_type": "execute_result"
    }
   ],
   "source": [
    "purchase_Data_Reader1=reading_File(os.path.join(\"raw_data\",\"purchase_data2.json\"))\n",
    "purchase_Data_Reader2=reading_File(os.path.join(\"raw_data\",\"purchase_data.json\"))\n",
    "purchase_Data_Reader=pd.concat([purchase_Data_Reader1,purchase_Data_Reader2])\n",
    "purchase_Data_Reader.head()"
   ]
  },
  {
   "cell_type": "markdown",
   "metadata": {},
   "source": [
    "Now let's examine whether any null values are present in the data. Dataframe.isnull.any function returns false if there is no null value . It returns true if there is null values in columns"
   ]
  },
  {
   "cell_type": "markdown",
   "metadata": {},
   "source": [
    "\n",
    "## Total Players\n"
   ]
  },
  {
   "cell_type": "code",
   "execution_count": 116,
   "metadata": {
    "collapsed": true
   },
   "outputs": [],
   "source": [
    "def players_count():\n",
    "    #counts number of players\n",
    "    total_Players=purchase_Data_Reader[\"Gender\"].count()\n",
    "    #add to dataframe\n",
    "    tot_players_df=pd.DataFrame({\"Total Players\":[total_Players]})\n",
    "    #return df\n",
    "    return tot_players_df"
   ]
  },
  {
   "cell_type": "code",
   "execution_count": 117,
   "metadata": {},
   "outputs": [
    {
     "data": {
      "text/html": [
       "<div>\n",
       "<style>\n",
       "    .dataframe thead tr:only-child th {\n",
       "        text-align: right;\n",
       "    }\n",
       "\n",
       "    .dataframe thead th {\n",
       "        text-align: left;\n",
       "    }\n",
       "\n",
       "    .dataframe tbody tr th {\n",
       "        vertical-align: top;\n",
       "    }\n",
       "</style>\n",
       "<table border=\"1\" class=\"dataframe\">\n",
       "  <thead>\n",
       "    <tr style=\"text-align: right;\">\n",
       "      <th></th>\n",
       "      <th>Total Players</th>\n",
       "    </tr>\n",
       "  </thead>\n",
       "  <tbody>\n",
       "    <tr>\n",
       "      <th>0</th>\n",
       "      <td>858</td>\n",
       "    </tr>\n",
       "  </tbody>\n",
       "</table>\n",
       "</div>"
      ],
      "text/plain": [
       "   Total Players\n",
       "0            858"
      ]
     },
     "execution_count": 117,
     "metadata": {},
     "output_type": "execute_result"
    }
   ],
   "source": [
    "total_players=players_count()\n",
    "total_players"
   ]
  },
  {
   "cell_type": "markdown",
   "metadata": {},
   "source": [
    "## Purchase Analysis Total"
   ]
  },
  {
   "cell_type": "code",
   "execution_count": 118,
   "metadata": {
    "collapsed": true
   },
   "outputs": [],
   "source": [
    "# Calculates the totals and returns the df\n",
    "def total_analysis():\n",
    "    total_list=[]\n",
    "    # get the unique itens by ITEM ID\n",
    "    unique_items=purchase_Data_Reader[\"Item ID\"].unique()[0]\n",
    "    # calculate average purchase price\n",
    "    avg_Purchase_Price=purchase_Data_Reader[\"Price\"].sum()/unique_items\n",
    "    #calulate total items purchased\n",
    "    total_Purchases=purchase_Data_Reader[\"Price\"].count()\n",
    "    # calculate total revenue from price\n",
    "    total_revenue=purchase_Data_Reader[\"Price\"].sum()\n",
    "    # append to the list\n",
    "    total_list.append([unique_items,avg_Purchase_Price,total_Purchases,total_revenue])\n",
    "    # create the df\n",
    "    total_df=pd.DataFrame(total_list,columns=[\"No.of Unique Items\",\"Average Price\",\"No.of Purchases\",\"Total Revenue\"])\n",
    "    # return the df\n",
    "    return total_df\n"
   ]
  },
  {
   "cell_type": "code",
   "execution_count": 119,
   "metadata": {},
   "outputs": [
    {
     "data": {
      "text/html": [
       "<div>\n",
       "<style>\n",
       "    .dataframe thead tr:only-child th {\n",
       "        text-align: right;\n",
       "    }\n",
       "\n",
       "    .dataframe thead th {\n",
       "        text-align: left;\n",
       "    }\n",
       "\n",
       "    .dataframe tbody tr th {\n",
       "        vertical-align: top;\n",
       "    }\n",
       "</style>\n",
       "<table border=\"1\" class=\"dataframe\">\n",
       "  <thead>\n",
       "    <tr style=\"text-align: right;\">\n",
       "      <th></th>\n",
       "      <th>No.of Unique Items</th>\n",
       "      <th>Average Price</th>\n",
       "      <th>No.of Purchases</th>\n",
       "      <th>Total Revenue</th>\n",
       "    </tr>\n",
       "  </thead>\n",
       "  <tbody>\n",
       "    <tr>\n",
       "      <th>0</th>\n",
       "      <td>93</td>\n",
       "      <td>27.036882</td>\n",
       "      <td>858</td>\n",
       "      <td>2514.43</td>\n",
       "    </tr>\n",
       "  </tbody>\n",
       "</table>\n",
       "</div>"
      ],
      "text/plain": [
       "   No.of Unique Items  Average Price  No.of Purchases  Total Revenue\n",
       "0                  93      27.036882              858        2514.43"
      ]
     },
     "execution_count": 119,
     "metadata": {},
     "output_type": "execute_result"
    }
   ],
   "source": [
    "total_analysis_df=total_analysis()\n",
    "total_analysis_df"
   ]
  },
  {
   "cell_type": "markdown",
   "metadata": {},
   "source": [
    "## <li><u><i>Gender Demographics</i></u>"
   ]
  },
  {
   "cell_type": "markdown",
   "metadata": {},
   "source": [
    "#### Calculate:\n",
    "<ol>\n",
    "    <li>Percentage and Count of Male Players\n",
    "    <li>Percentage and Count of Female Players\n",
    "    <li>Percentage and Count of Other / Non-Disclosed\n",
    "</ol>"
   ]
  },
  {
   "cell_type": "code",
   "execution_count": 120,
   "metadata": {
    "collapsed": true
   },
   "outputs": [],
   "source": [
    "def gender_total():\n",
    "    # calculates the % of each players\n",
    "    gender_total_df=purchase_Data_Reader[\"Gender\"].unique()\n",
    "    # counts the unique players\n",
    "    count_unique_Players=purchase_Data_Reader[\"Gender\"].count()\n",
    "    gender_total_list=[]\n",
    "    # for each gender , calculate the % and counts\n",
    "    for each in gender_total_df:\n",
    "        rows=purchase_Data_Reader.loc[purchase_Data_Reader[\"Gender\"]==each]\n",
    "        counts=rows[\"Gender\"].count()\n",
    "        percentPlayers=round((counts/count_unique_Players)*100,2)\n",
    "        # append to list\n",
    "        gender_total_list.append([each,percentPlayers,counts])\n",
    "    #return the df\n",
    "    gender_df=pd.DataFrame(gender_total_list,columns=[\"Gender\",\"Percentage Players\", \"Total Count\"])\n",
    "    return gender_df"
   ]
  },
  {
   "cell_type": "code",
   "execution_count": 121,
   "metadata": {},
   "outputs": [
    {
     "data": {
      "text/html": [
       "<div>\n",
       "<style>\n",
       "    .dataframe thead tr:only-child th {\n",
       "        text-align: right;\n",
       "    }\n",
       "\n",
       "    .dataframe thead th {\n",
       "        text-align: left;\n",
       "    }\n",
       "\n",
       "    .dataframe tbody tr th {\n",
       "        vertical-align: top;\n",
       "    }\n",
       "</style>\n",
       "<table border=\"1\" class=\"dataframe\">\n",
       "  <thead>\n",
       "    <tr style=\"text-align: right;\">\n",
       "      <th></th>\n",
       "      <th>Gender</th>\n",
       "      <th>Percentage Players</th>\n",
       "      <th>Total Count</th>\n",
       "    </tr>\n",
       "  </thead>\n",
       "  <tbody>\n",
       "    <tr>\n",
       "      <th>0</th>\n",
       "      <td>Male</td>\n",
       "      <td>81.24</td>\n",
       "      <td>697</td>\n",
       "    </tr>\n",
       "    <tr>\n",
       "      <th>1</th>\n",
       "      <td>Female</td>\n",
       "      <td>17.37</td>\n",
       "      <td>149</td>\n",
       "    </tr>\n",
       "    <tr>\n",
       "      <th>2</th>\n",
       "      <td>Other / Non-Disclosed</td>\n",
       "      <td>1.40</td>\n",
       "      <td>12</td>\n",
       "    </tr>\n",
       "  </tbody>\n",
       "</table>\n",
       "</div>"
      ],
      "text/plain": [
       "                  Gender  Percentage Players  Total Count\n",
       "0                   Male               81.24          697\n",
       "1                 Female               17.37          149\n",
       "2  Other / Non-Disclosed                1.40           12"
      ]
     },
     "execution_count": 121,
     "metadata": {},
     "output_type": "execute_result"
    }
   ],
   "source": [
    "total_Gender=gender_total()\n",
    "total_Gender.head()"
   ]
  },
  {
   "cell_type": "markdown",
   "metadata": {},
   "source": [
    " ##  <li><u><i>Purchasing Analysis (Gender) </i></u>"
   ]
  },
  {
   "cell_type": "markdown",
   "metadata": {},
   "source": [
    "#### Calculate the following broken by Gender:\n",
    "<ol>\n",
    "    \n",
    "       <li> Purchase Count= total no.of purchase by each gender</li>\n",
    "        <li>Average Purchase Price=total purchase / purchase count</li>\n",
    "        <li>Total Purchase Value=sum of total values by gender</li>\n",
    "        <li>Normalized Totals</li>\n",
    "</ol>"
   ]
  },
  {
   "cell_type": "code",
   "execution_count": 122,
   "metadata": {},
   "outputs": [],
   "source": [
    "def gender_Analysis():\n",
    "    # runs the gender based analysis on data\n",
    "    # find the unique gender in the data\n",
    "    gender_group_df=purchase_Data_Reader[\"Gender\"].unique()\n",
    "    gender_list=[]\n",
    "    # for all gender types, calculates the analysis\n",
    "    for gender in gender_group_df:\n",
    "        rows=purchase_Data_Reader.loc[purchase_Data_Reader[\"Gender\"]==gender]\n",
    "        Purchase=rows[\"Item ID\"].count()\n",
    "        avgPurchases=rows[\"Price\"].sum()/Purchase\n",
    "        total_purchase_Values=rows[\"Price\"].sum()\n",
    "        normalized=total_purchase_Values/Purchase\n",
    "        # append to list\n",
    "        gender_list.append([gender,Purchase,avgPurchases,total_purchase_Values,normalized])\n",
    "    # return df\n",
    "    gender_df=pd.DataFrame(gender_list,columns=[\"Gender\",\"Purchase Count\", \"Average Purchase Price\",\"Total Purchase Value\",\"Normalized Totals\"])\n",
    "    return gender_df"
   ]
  },
  {
   "cell_type": "code",
   "execution_count": 123,
   "metadata": {},
   "outputs": [
    {
     "data": {
      "text/html": [
       "<div>\n",
       "<style>\n",
       "    .dataframe thead tr:only-child th {\n",
       "        text-align: right;\n",
       "    }\n",
       "\n",
       "    .dataframe thead th {\n",
       "        text-align: left;\n",
       "    }\n",
       "\n",
       "    .dataframe tbody tr th {\n",
       "        vertical-align: top;\n",
       "    }\n",
       "</style>\n",
       "<table border=\"1\" class=\"dataframe\">\n",
       "  <thead>\n",
       "    <tr style=\"text-align: right;\">\n",
       "      <th></th>\n",
       "      <th>Gender</th>\n",
       "      <th>Purchase Count</th>\n",
       "      <th>Average Purchase Price</th>\n",
       "      <th>Total Purchase Value</th>\n",
       "      <th>Normalized Totals</th>\n",
       "    </tr>\n",
       "  </thead>\n",
       "  <tbody>\n",
       "    <tr>\n",
       "      <th>0</th>\n",
       "      <td>Male</td>\n",
       "      <td>697</td>\n",
       "      <td>2.944448</td>\n",
       "      <td>2052.28</td>\n",
       "      <td>2.944448</td>\n",
       "    </tr>\n",
       "    <tr>\n",
       "      <th>1</th>\n",
       "      <td>Female</td>\n",
       "      <td>149</td>\n",
       "      <td>2.847584</td>\n",
       "      <td>424.29</td>\n",
       "      <td>2.847584</td>\n",
       "    </tr>\n",
       "    <tr>\n",
       "      <th>2</th>\n",
       "      <td>Other / Non-Disclosed</td>\n",
       "      <td>12</td>\n",
       "      <td>3.155000</td>\n",
       "      <td>37.86</td>\n",
       "      <td>3.155000</td>\n",
       "    </tr>\n",
       "  </tbody>\n",
       "</table>\n",
       "</div>"
      ],
      "text/plain": [
       "                  Gender  Purchase Count  Average Purchase Price  \\\n",
       "0                   Male             697                2.944448   \n",
       "1                 Female             149                2.847584   \n",
       "2  Other / Non-Disclosed              12                3.155000   \n",
       "\n",
       "   Total Purchase Value  Normalized Totals  \n",
       "0               2052.28           2.944448  \n",
       "1                424.29           2.847584  \n",
       "2                 37.86           3.155000  "
      ]
     },
     "execution_count": 123,
     "metadata": {},
     "output_type": "execute_result"
    }
   ],
   "source": [
    "gender_Analyis=gender_Analysis()\n",
    "gender_Analyis"
   ]
  },
  {
   "cell_type": "markdown",
   "metadata": {},
   "source": [
    "##  <li><u><i>Age Demographics </i></u>"
   ]
  },
  {
   "cell_type": "markdown",
   "metadata": {},
   "source": [
    "#### Calculate the below each broken into bins of 4 years (i.e. <10, 10-14, 15-19, etc.)\n",
    "    -Purchase Count\n",
    "    -Average Purchase Price\n",
    "    -Total Purchase Value\n",
    "    -Normalized Totals"
   ]
  },
  {
   "cell_type": "code",
   "execution_count": 124,
   "metadata": {},
   "outputs": [
    {
     "data": {
      "text/plain": [
       "[20-25, 15-19, <10, 40-44, 25-29, 35-39, 30-34, 10-14, NaN]\n",
       "Categories (8, object): [<10 < 10-14 < 15-19 < 20-25 < 25-29 < 30-34 < 35-39 < 40-44]"
      ]
     },
     "execution_count": 124,
     "metadata": {},
     "output_type": "execute_result"
    }
   ],
   "source": [
    "#create the bins\n",
    "bins = [0,10, 14, 19, 24, 29,34,39,44]\n",
    "# Create the names for the four bins\n",
    "year_labels = ['<10', '10-14', '15-19', '20-25','25-29','30-34','35-39','40-44']\n",
    "purchase_Data_Reader[\"Age Group\"] = pd.cut(purchase_Data_Reader[\"Age\"],bins,labels=year_labels)\n",
    "purchase_Data_Reader[\"Age Group\"].unique()"
   ]
  },
  {
   "cell_type": "code",
   "execution_count": 125,
   "metadata": {},
   "outputs": [],
   "source": [
    " def age_group(criteria):\n",
    "    # criteria is the column based on which the grouping has to be done\n",
    "    group_df=purchase_Data_Reader[criteria].unique()\n",
    "    group_list=[]\n",
    "    for item in group_df:\n",
    "        #for the criteria values in the list retrieve required fields from df\n",
    "        age_df = purchase_Data_Reader[purchase_Data_Reader[criteria] == item]\n",
    "        purchase_count=age_df[\"Item ID\"].count()\n",
    "        purchase_price=age_df[\"Price\"].sum()/purchase_count\n",
    "        total_price=age_df[\"Price\"].sum()\n",
    "        normal_total=total_price/purchase_count\n",
    "       \n",
    "        group_list.append([item,purchase_count,purchase_price,total_price,normal_total])\n",
    "    #create df based on list and return df\n",
    "    age_group_df=pd.DataFrame(group_list,columns=[criteria+' Range','Purchase Count','Average PRICE','Total Price','Normalized Total'])\n",
    "    return age_group_df "
   ]
  },
  {
   "cell_type": "code",
   "execution_count": 126,
   "metadata": {},
   "outputs": [
    {
     "name": "stderr",
     "output_type": "stream",
     "text": [
      "C:\\Users\\Aswathy Vineeth\\Anaconda3\\lib\\site-packages\\ipykernel_launcher.py:9: RuntimeWarning: invalid value encountered in long_scalars\n",
      "  if __name__ == '__main__':\n",
      "C:\\Users\\Aswathy Vineeth\\Anaconda3\\lib\\site-packages\\ipykernel_launcher.py:11: RuntimeWarning: invalid value encountered in long_scalars\n",
      "  # This is added back by InteractiveShellApp.init_path()\n"
     ]
    },
    {
     "data": {
      "text/html": [
       "<div>\n",
       "<style>\n",
       "    .dataframe thead tr:only-child th {\n",
       "        text-align: right;\n",
       "    }\n",
       "\n",
       "    .dataframe thead th {\n",
       "        text-align: left;\n",
       "    }\n",
       "\n",
       "    .dataframe tbody tr th {\n",
       "        vertical-align: top;\n",
       "    }\n",
       "</style>\n",
       "<table border=\"1\" class=\"dataframe\">\n",
       "  <thead>\n",
       "    <tr style=\"text-align: right;\">\n",
       "      <th></th>\n",
       "      <th>Age Group Range</th>\n",
       "      <th>Purchase Count</th>\n",
       "      <th>Average PRICE</th>\n",
       "      <th>Total Price</th>\n",
       "      <th>Normalized Total</th>\n",
       "    </tr>\n",
       "  </thead>\n",
       "  <tbody>\n",
       "    <tr>\n",
       "      <th>0</th>\n",
       "      <td>20-25</td>\n",
       "      <td>372</td>\n",
       "      <td>2.923817</td>\n",
       "      <td>1087.66</td>\n",
       "      <td>2.923817</td>\n",
       "    </tr>\n",
       "    <tr>\n",
       "      <th>1</th>\n",
       "      <td>15-19</td>\n",
       "      <td>144</td>\n",
       "      <td>2.894653</td>\n",
       "      <td>416.83</td>\n",
       "      <td>2.894653</td>\n",
       "    </tr>\n",
       "    <tr>\n",
       "      <th>2</th>\n",
       "      <td>&lt;10</td>\n",
       "      <td>37</td>\n",
       "      <td>2.984865</td>\n",
       "      <td>110.44</td>\n",
       "      <td>2.984865</td>\n",
       "    </tr>\n",
       "    <tr>\n",
       "      <th>3</th>\n",
       "      <td>40-44</td>\n",
       "      <td>17</td>\n",
       "      <td>3.275294</td>\n",
       "      <td>55.68</td>\n",
       "      <td>3.275294</td>\n",
       "    </tr>\n",
       "    <tr>\n",
       "      <th>4</th>\n",
       "      <td>25-29</td>\n",
       "      <td>134</td>\n",
       "      <td>2.958507</td>\n",
       "      <td>396.44</td>\n",
       "      <td>2.958507</td>\n",
       "    </tr>\n",
       "    <tr>\n",
       "      <th>5</th>\n",
       "      <td>35-39</td>\n",
       "      <td>48</td>\n",
       "      <td>2.932708</td>\n",
       "      <td>140.77</td>\n",
       "      <td>2.932708</td>\n",
       "    </tr>\n",
       "    <tr>\n",
       "      <th>6</th>\n",
       "      <td>30-34</td>\n",
       "      <td>71</td>\n",
       "      <td>2.973803</td>\n",
       "      <td>211.14</td>\n",
       "      <td>2.973803</td>\n",
       "    </tr>\n",
       "    <tr>\n",
       "      <th>7</th>\n",
       "      <td>10-14</td>\n",
       "      <td>34</td>\n",
       "      <td>2.727941</td>\n",
       "      <td>92.75</td>\n",
       "      <td>2.727941</td>\n",
       "    </tr>\n",
       "  </tbody>\n",
       "</table>\n",
       "</div>"
      ],
      "text/plain": [
       "  Age Group Range  Purchase Count  Average PRICE  Total Price  \\\n",
       "0           20-25             372       2.923817      1087.66   \n",
       "1           15-19             144       2.894653       416.83   \n",
       "2             <10              37       2.984865       110.44   \n",
       "3           40-44              17       3.275294        55.68   \n",
       "4           25-29             134       2.958507       396.44   \n",
       "5           35-39              48       2.932708       140.77   \n",
       "6           30-34              71       2.973803       211.14   \n",
       "7           10-14              34       2.727941        92.75   \n",
       "\n",
       "   Normalized Total  \n",
       "0          2.923817  \n",
       "1          2.894653  \n",
       "2          2.984865  \n",
       "3          3.275294  \n",
       "4          2.958507  \n",
       "5          2.932708  \n",
       "6          2.973803  \n",
       "7          2.727941  "
      ]
     },
     "execution_count": 126,
     "metadata": {},
     "output_type": "execute_result"
    }
   ],
   "source": [
    "age_df=age_group(\"Age Group\")\n",
    "age_df=age_df.dropna(how=\"any\")\n",
    "age_df"
   ]
  },
  {
   "cell_type": "markdown",
   "metadata": {},
   "source": [
    "## Top Spenders\n"
   ]
  },
  {
   "cell_type": "code",
   "execution_count": 127,
   "metadata": {
    "collapsed": true
   },
   "outputs": [],
   "source": [
    "def analysis_final(purchase_Data_Reader,criteria,aggregate_Val):\n",
    "    # calculates the top spender based on criteria and value. Here it is username and price\n",
    "    #group based on SN\n",
    "    top_spend=purchase_Data_Reader.groupby([criteria],as_index=False)\n",
    "    #retrieves the top 5 values\n",
    "    top_Purchase=top_spend[aggregate_Val].sum().nlargest(5,aggregate_Val)\n",
    "    # convert the df to list\n",
    "    top_purchase_list=list(top_Purchase[criteria])\n",
    "    spend_each_list=[] \n",
    "    spend_total_list=[]\n",
    "    # calculate the values for each value in list\n",
    "    for each in top_purchase_list:\n",
    "        each_top_df = purchase_Data_Reader[purchase_Data_Reader[\"SN\"] == each]\n",
    "        purchase_count = each_top_df[\"Item ID\"].count()\n",
    "        purchase_sum=each_top_df[aggregate_Val].sum()\n",
    "        avg_purchase_price=round((purchase_sum/purchase_count),2)\n",
    "        #append to the list\n",
    "        spend_each_list.append([each,purchase_count,avg_purchase_price,purchase_sum])\n",
    "    # return the df\n",
    "    df=pd.DataFrame(spend_each_list,columns=['SN','Purchase Count','Avg Purchase Price','Total Purchase'])\n",
    "    return(df)\n",
    "    "
   ]
  },
  {
   "cell_type": "code",
   "execution_count": 128,
   "metadata": {},
   "outputs": [
    {
     "data": {
      "text/html": [
       "<div>\n",
       "<style>\n",
       "    .dataframe thead tr:only-child th {\n",
       "        text-align: right;\n",
       "    }\n",
       "\n",
       "    .dataframe thead th {\n",
       "        text-align: left;\n",
       "    }\n",
       "\n",
       "    .dataframe tbody tr th {\n",
       "        vertical-align: top;\n",
       "    }\n",
       "</style>\n",
       "<table border=\"1\" class=\"dataframe\">\n",
       "  <thead>\n",
       "    <tr style=\"text-align: right;\">\n",
       "      <th></th>\n",
       "      <th>SN</th>\n",
       "      <th>Purchase Count</th>\n",
       "      <th>Avg Purchase Price</th>\n",
       "      <th>Total Purchase</th>\n",
       "    </tr>\n",
       "  </thead>\n",
       "  <tbody>\n",
       "    <tr>\n",
       "      <th>0</th>\n",
       "      <td>Undirrala66</td>\n",
       "      <td>5</td>\n",
       "      <td>3.41</td>\n",
       "      <td>17.06</td>\n",
       "    </tr>\n",
       "    <tr>\n",
       "      <th>1</th>\n",
       "      <td>Aerithllora36</td>\n",
       "      <td>4</td>\n",
       "      <td>3.78</td>\n",
       "      <td>15.10</td>\n",
       "    </tr>\n",
       "    <tr>\n",
       "      <th>2</th>\n",
       "      <td>Saedue76</td>\n",
       "      <td>4</td>\n",
       "      <td>3.39</td>\n",
       "      <td>13.56</td>\n",
       "    </tr>\n",
       "    <tr>\n",
       "      <th>3</th>\n",
       "      <td>Sondim43</td>\n",
       "      <td>4</td>\n",
       "      <td>3.26</td>\n",
       "      <td>13.02</td>\n",
       "    </tr>\n",
       "    <tr>\n",
       "      <th>4</th>\n",
       "      <td>Mindimnya67</td>\n",
       "      <td>4</td>\n",
       "      <td>3.18</td>\n",
       "      <td>12.74</td>\n",
       "    </tr>\n",
       "  </tbody>\n",
       "</table>\n",
       "</div>"
      ],
      "text/plain": [
       "              SN  Purchase Count  Avg Purchase Price  Total Purchase\n",
       "0    Undirrala66               5                3.41           17.06\n",
       "1  Aerithllora36               4                3.78           15.10\n",
       "2       Saedue76               4                3.39           13.56\n",
       "3       Sondim43               4                3.26           13.02\n",
       "4    Mindimnya67               4                3.18           12.74"
      ]
     },
     "execution_count": 128,
     "metadata": {},
     "output_type": "execute_result"
    }
   ],
   "source": [
    "new_data=analysis_final(purchase_Data_Reader,\"SN\",\"Price\")\n",
    "new_data"
   ]
  },
  {
   "cell_type": "markdown",
   "metadata": {},
   "source": [
    "## Popular and Profitable Items"
   ]
  },
  {
   "cell_type": "code",
   "execution_count": 129,
   "metadata": {
    "collapsed": true
   },
   "outputs": [],
   "source": [
    "def purchase_count():\n",
    "    #returns a df with Item details, purchase counts, and total price\n",
    "    purchase=purchase_Data_Reader[\"Item ID\"].unique()\n",
    "    purchase_list=[]\n",
    "    #for each school retrieve values\n",
    "    for item in purchase:\n",
    "        p_count = purchase_Data_Reader[purchase_Data_Reader[\"Item ID\"] == item]\n",
    "        purchase_count=p_count[\"Item ID\"].count()\n",
    "        purchase_name=p_count[\"Item Name\"].unique()[0]\n",
    "        itemPrice=p_count[\"Price\"].unique()[0]\n",
    "        totalValue=p_count[\"Price\"].sum()\n",
    "        # append to list\n",
    "        purchase_list.append([item,purchase_count,purchase_name,itemPrice,totalValue])\n",
    "        #create df\n",
    "        pc_df=pd.DataFrame(purchase_list,columns=[\"Item ID\",\"Purchase Count\",'Item Name',\"Price\",'Total Purchase Value'])\n",
    "    #returns df\n",
    "    return pc_df"
   ]
  },
  {
   "cell_type": "markdown",
   "metadata": {},
   "source": [
    "### Most Popular Items"
   ]
  },
  {
   "cell_type": "code",
   "execution_count": 130,
   "metadata": {},
   "outputs": [
    {
     "data": {
      "text/html": [
       "<div>\n",
       "<style>\n",
       "    .dataframe thead tr:only-child th {\n",
       "        text-align: right;\n",
       "    }\n",
       "\n",
       "    .dataframe thead th {\n",
       "        text-align: left;\n",
       "    }\n",
       "\n",
       "    .dataframe tbody tr th {\n",
       "        vertical-align: top;\n",
       "    }\n",
       "</style>\n",
       "<table border=\"1\" class=\"dataframe\">\n",
       "  <thead>\n",
       "    <tr style=\"text-align: right;\">\n",
       "      <th></th>\n",
       "      <th>Item ID</th>\n",
       "      <th>Purchase Count</th>\n",
       "      <th>Item Name</th>\n",
       "      <th>Price</th>\n",
       "      <th>Total Purchase Value</th>\n",
       "    </tr>\n",
       "  </thead>\n",
       "  <tbody>\n",
       "    <tr>\n",
       "      <th>44</th>\n",
       "      <td>84</td>\n",
       "      <td>12</td>\n",
       "      <td>Arcane Gem</td>\n",
       "      <td>4.81</td>\n",
       "      <td>29.34</td>\n",
       "    </tr>\n",
       "    <tr>\n",
       "      <th>104</th>\n",
       "      <td>39</td>\n",
       "      <td>11</td>\n",
       "      <td>Betrayal, Whisper of Grieving Widows</td>\n",
       "      <td>2.35</td>\n",
       "      <td>25.85</td>\n",
       "    </tr>\n",
       "    <tr>\n",
       "      <th>53</th>\n",
       "      <td>31</td>\n",
       "      <td>10</td>\n",
       "      <td>Trickster</td>\n",
       "      <td>4.59</td>\n",
       "      <td>23.22</td>\n",
       "    </tr>\n",
       "    <tr>\n",
       "      <th>14</th>\n",
       "      <td>44</td>\n",
       "      <td>9</td>\n",
       "      <td>Bonecarvin Battle Axe</td>\n",
       "      <td>4.36</td>\n",
       "      <td>24.04</td>\n",
       "    </tr>\n",
       "    <tr>\n",
       "      <th>33</th>\n",
       "      <td>108</td>\n",
       "      <td>9</td>\n",
       "      <td>Extraction, Quickblade Of Trembling Hands</td>\n",
       "      <td>2.26</td>\n",
       "      <td>28.25</td>\n",
       "    </tr>\n",
       "  </tbody>\n",
       "</table>\n",
       "</div>"
      ],
      "text/plain": [
       "     Item ID  Purchase Count                                  Item Name  \\\n",
       "44        84              12                                 Arcane Gem   \n",
       "104       39              11       Betrayal, Whisper of Grieving Widows   \n",
       "53        31              10                                  Trickster   \n",
       "14        44               9                      Bonecarvin Battle Axe   \n",
       "33       108               9  Extraction, Quickblade Of Trembling Hands   \n",
       "\n",
       "     Price  Total Purchase Value  \n",
       "44    4.81                 29.34  \n",
       "104   2.35                 25.85  \n",
       "53    4.59                 23.22  \n",
       "14    4.36                 24.04  \n",
       "33    2.26                 28.25  "
      ]
     },
     "execution_count": 130,
     "metadata": {},
     "output_type": "execute_result"
    }
   ],
   "source": [
    "purchase_df=purchase_count()\n",
    "# create the df by calling function and sort based on Purchase count\n",
    "purchase_df=purchase_df.sort_values(\"Purchase Count\",ascending=False)\n",
    "purchase_df.head()"
   ]
  },
  {
   "cell_type": "markdown",
   "metadata": {},
   "source": [
    "### Most Profitable Items"
   ]
  },
  {
   "cell_type": "code",
   "execution_count": 131,
   "metadata": {},
   "outputs": [
    {
     "data": {
      "text/html": [
       "<div>\n",
       "<style>\n",
       "    .dataframe thead tr:only-child th {\n",
       "        text-align: right;\n",
       "    }\n",
       "\n",
       "    .dataframe thead th {\n",
       "        text-align: left;\n",
       "    }\n",
       "\n",
       "    .dataframe tbody tr th {\n",
       "        vertical-align: top;\n",
       "    }\n",
       "</style>\n",
       "<table border=\"1\" class=\"dataframe\">\n",
       "  <thead>\n",
       "    <tr style=\"text-align: right;\">\n",
       "      <th></th>\n",
       "      <th>Item ID</th>\n",
       "      <th>Purchase Count</th>\n",
       "      <th>Item Name</th>\n",
       "      <th>Price</th>\n",
       "      <th>Total Purchase Value</th>\n",
       "    </tr>\n",
       "  </thead>\n",
       "  <tbody>\n",
       "    <tr>\n",
       "      <th>102</th>\n",
       "      <td>34</td>\n",
       "      <td>9</td>\n",
       "      <td>Retribution Axe</td>\n",
       "      <td>4.14</td>\n",
       "      <td>37.26</td>\n",
       "    </tr>\n",
       "    <tr>\n",
       "      <th>49</th>\n",
       "      <td>107</td>\n",
       "      <td>9</td>\n",
       "      <td>Splitter, Foe Of Subtlety</td>\n",
       "      <td>4.15</td>\n",
       "      <td>33.03</td>\n",
       "    </tr>\n",
       "    <tr>\n",
       "      <th>124</th>\n",
       "      <td>115</td>\n",
       "      <td>7</td>\n",
       "      <td>Spectral Diamond Doomblade</td>\n",
       "      <td>4.25</td>\n",
       "      <td>29.75</td>\n",
       "    </tr>\n",
       "    <tr>\n",
       "      <th>98</th>\n",
       "      <td>32</td>\n",
       "      <td>6</td>\n",
       "      <td>Orenmir</td>\n",
       "      <td>4.95</td>\n",
       "      <td>29.70</td>\n",
       "    </tr>\n",
       "    <tr>\n",
       "      <th>44</th>\n",
       "      <td>84</td>\n",
       "      <td>12</td>\n",
       "      <td>Arcane Gem</td>\n",
       "      <td>4.81</td>\n",
       "      <td>29.34</td>\n",
       "    </tr>\n",
       "  </tbody>\n",
       "</table>\n",
       "</div>"
      ],
      "text/plain": [
       "     Item ID  Purchase Count                   Item Name  Price  \\\n",
       "102       34               9             Retribution Axe   4.14   \n",
       "49       107               9   Splitter, Foe Of Subtlety   4.15   \n",
       "124      115               7  Spectral Diamond Doomblade   4.25   \n",
       "98        32               6                     Orenmir   4.95   \n",
       "44        84              12                  Arcane Gem   4.81   \n",
       "\n",
       "     Total Purchase Value  \n",
       "102                 37.26  \n",
       "49                  33.03  \n",
       "124                 29.75  \n",
       "98                  29.70  \n",
       "44                  29.34  "
      ]
     },
     "execution_count": 131,
     "metadata": {},
     "output_type": "execute_result"
    }
   ],
   "source": [
    "total_purchase=purchase_count()\n",
    "# create the df by calling function and sort based on Total Purchase Value\n",
    "total_purchase=total_purchase.sort_values(\"Total Purchase Value\",ascending=False)\n",
    "total_purchase.head()"
   ]
  },
  {
   "cell_type": "code",
   "execution_count": null,
   "metadata": {
    "collapsed": true
   },
   "outputs": [],
   "source": []
  }
 ],
 "metadata": {
  "kernelspec": {
   "display_name": "Python 3",
   "language": "python",
   "name": "python3"
  },
  "language_info": {
   "codemirror_mode": {
    "name": "ipython",
    "version": 3
   },
   "file_extension": ".py",
   "mimetype": "text/x-python",
   "name": "python",
   "nbconvert_exporter": "python",
   "pygments_lexer": "ipython3",
   "version": "3.6.3"
  }
 },
 "nbformat": 4,
 "nbformat_minor": 2
}
